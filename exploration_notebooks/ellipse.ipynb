{
 "cells": [
  {
   "cell_type": "code",
   "execution_count": null,
   "id": "e10fc39b-2d87-45a6-863f-c74251365961",
   "metadata": {},
   "outputs": [],
   "source": [
    "import numpy as np\n",
    "import matplotlib.pyplot as plt\n",
    "from skimage.measure import EllipseModel"
   ]
  },
  {
   "cell_type": "code",
   "execution_count": null,
   "id": "e5c3bd7d-905e-4499-a3a3-a7807c644b8f",
   "metadata": {},
   "outputs": [],
   "source": [
    "t = np.linspace(0, 2 * np.pi, 50)\n",
    "xc, yc = 20, 30\n",
    "a, b = 5, 10\n",
    "x = xc + a * np.cos(t)\n",
    "y = yc + b * np.sin(t)\n",
    "data = np.column_stack([x, y])\n",
    "data += rng.normal(size=data.shape)"
   ]
  },
  {
   "cell_type": "code",
   "execution_count": null,
   "id": "4a4a91a3-049f-47af-b687-65322309af08",
   "metadata": {},
   "outputs": [],
   "source": [
    "ellipse = EllipseModel()\n",
    "ellipse.estimate(data)\n",
    "params = ellipse.params"
   ]
  },
  {
   "cell_type": "code",
   "execution_count": null,
   "id": "1f076793-1bfb-4c2d-8a13-ed73acf3fcb3",
   "metadata": {},
   "outputs": [],
   "source": [
    "def get_ellipse_point(t, params):\n",
    "    \n",
    "    xc, yc, a, b, theta = params\n",
    "    \n",
    "    xt = xc + a*np.cos(theta)*np.cos(t) - b*np.sin(theta)*np.sin(t)\n",
    "    yt = yc + a*np.sin(theta)*np.cos(t) + b*np.cos(theta)*np.sin(t)\n",
    "    \n",
    "    return xt, yt"
   ]
  },
  {
   "cell_type": "code",
   "execution_count": null,
   "id": "f6cd4720-c1aa-4db0-88a3-453cc1c5d090",
   "metadata": {},
   "outputs": [],
   "source": [
    "t = np.arange(0, 2*np.pi, step=2*np.pi/100)\n",
    "points = get_ellipse_point(t=t, params=params)"
   ]
  },
  {
   "cell_type": "code",
   "execution_count": null,
   "id": "183396f8-045d-40fc-b15b-617635531671",
   "metadata": {},
   "outputs": [],
   "source": [
    "plt.plot(data[:,0],data[:,1], '.')\n",
    "plt.plot(points[0],points[1], '-')"
   ]
  },
  {
   "cell_type": "code",
   "execution_count": null,
   "id": "ba360647-62c4-4180-83e9-2d932cb4806b",
   "metadata": {},
   "outputs": [],
   "source": [
    "params"
   ]
  },
  {
   "cell_type": "code",
   "execution_count": null,
   "id": "c730343a-a5f0-4c84-ab5e-d19de6db7037",
   "metadata": {},
   "outputs": [],
   "source": [
    "data_used = np.linspace(0, 2 * np.pi, 25)\n",
    "params_used = (10, 15, 4, 8, np.deg2rad(30))\n",
    "xy = EllipseModel().predict_xy(data_used,params=params_used)\n",
    "ellipse = EllipseModel()\n",
    "ellipse.estimate(xy)\n",
    "\n",
    "np.round(ellipse.params, 2)\n",
    "\n",
    "np.round(abs(ellipse.residuals(xy)), 5)"
   ]
  },
  {
   "cell_type": "code",
   "execution_count": null,
   "id": "32ec8225-1873-4d5e-8f1d-637f0f39358f",
   "metadata": {},
   "outputs": [],
   "source": [
    "#plt.plot(data[:,0],data[:,1], '.')\n",
    "plt.plot(xy[:, 0], xy[:, 1], '.')"
   ]
  }
 ],
 "metadata": {
  "kernelspec": {
   "display_name": "xai_cats_dogs_venv",
   "language": "python",
   "name": "xai_cats_dogs_venv"
  },
  "language_info": {
   "codemirror_mode": {
    "name": "ipython",
    "version": 3
   },
   "file_extension": ".py",
   "mimetype": "text/x-python",
   "name": "python",
   "nbconvert_exporter": "python",
   "pygments_lexer": "ipython3",
   "version": "3.9.7"
  }
 },
 "nbformat": 4,
 "nbformat_minor": 5
}
