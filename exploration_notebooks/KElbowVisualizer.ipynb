{
 "cells": [
  {
   "cell_type": "code",
   "execution_count": null,
   "id": "f40c397d-0fe6-4186-b14b-1a21b5feef2b",
   "metadata": {},
   "outputs": [],
   "source": [
    "from sklearn.cluster import KMeans\n",
    "from sklearn.datasets import make_blobs\n",
    "\n",
    "from yellowbrick.cluster import KElbowVisualizer"
   ]
  },
  {
   "cell_type": "code",
   "execution_count": null,
   "id": "acd4e855-96ab-42b6-95c9-32ebd989fe9f",
   "metadata": {},
   "outputs": [],
   "source": [
    "\n",
    "# Generate synthetic dataset with 8 random clusters\n",
    "X, y = make_blobs(n_samples=1000, n_features=12, centers=8, random_state=42)\n",
    "\n",
    "# Instantiate the clustering model and visualizer\n",
    "kmeans_model = KMeans()\n",
    "visualizer = KElbowVisualizer(\n",
    "    kmeans_model, k=(4,12), metric='calinski_harabasz', timings=False, locate_elbow=False\n",
    ")\n",
    "\n",
    "visualizer.fit(X)        # Fit the data to the visualizer\n",
    "visualizer.show()        # Finalize and render the figure"
   ]
  }
 ],
 "metadata": {
  "kernelspec": {
   "display_name": "xai_cats_dogs_venv",
   "language": "python",
   "name": "xai_cats_dogs_venv"
  },
  "language_info": {
   "codemirror_mode": {
    "name": "ipython",
    "version": 3
   },
   "file_extension": ".py",
   "mimetype": "text/x-python",
   "name": "python",
   "nbconvert_exporter": "python",
   "pygments_lexer": "ipython3",
   "version": "3.9.7"
  }
 },
 "nbformat": 4,
 "nbformat_minor": 5
}
