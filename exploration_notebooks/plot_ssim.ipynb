{
 "cells": [
  {
   "cell_type": "code",
   "execution_count": null,
   "metadata": {
    "collapsed": false,
    "jupyter": {
     "outputs_hidden": false
    }
   },
   "outputs": [],
   "source": [
    "%matplotlib inline"
   ]
  },
  {
   "cell_type": "markdown",
   "metadata": {},
   "source": [
    "\n",
    "# Structural similarity index\n",
    "\n",
    "When comparing images, the mean squared error (MSE)--while simple to\n",
    "implement--is not highly indicative of perceived similarity.  Structural\n",
    "similarity aims to address this shortcoming by taking texture into account\n",
    "[1]_, [2]_.\n",
    "\n",
    "The example shows two modifications of the input image, each with the same MSE,\n",
    "but with very different mean structural similarity indices.\n",
    "\n",
    ".. [1] Zhou Wang; Bovik, A.C.; ,\"Mean squared error: Love it or leave it? A new\n",
    "       look at Signal Fidelity Measures,\" Signal Processing Magazine, IEEE,\n",
    "       vol. 26, no. 1, pp. 98-117, Jan. 2009.\n",
    "\n",
    ".. [2] Z. Wang, A. C. Bovik, H. R. Sheikh and E. P. Simoncelli, \"Image quality\n",
    "       assessment: From error visibility to structural similarity,\" IEEE\n",
    "       Transactions on Image Processing, vol. 13, no. 4, pp. 600-612,\n",
    "       Apr. 2004.\n"
   ]
  },
  {
   "cell_type": "code",
   "execution_count": null,
   "metadata": {
    "collapsed": false,
    "jupyter": {
     "outputs_hidden": false
    }
   },
   "outputs": [],
   "source": [
    "import numpy as np\n",
    "import matplotlib.pyplot as plt\n",
    "\n",
    "from skimage import data, img_as_float\n",
    "from skimage.metrics import structural_similarity as ssim\n",
    "from skimage.metrics import mean_squared_error\n",
    "\n",
    "\n",
    "img = img_as_float(data.camera())\n",
    "rows, cols = img.shape\n",
    "\n",
    "noise = np.ones_like(img) * 0.2 * (img.max() - img.min())\n",
    "rng = np.random.default_rng()\n",
    "noise[rng.random(size=noise.shape) > 0.5] *= -1\n",
    "\n",
    "img_noise = img + noise\n",
    "img_const = img + abs(noise)\n",
    "\n",
    "fig, axes = plt.subplots(nrows=1, ncols=3, figsize=(10, 4),\n",
    "                         sharex=True, sharey=True)\n",
    "ax = axes.ravel()\n",
    "\n",
    "mse_none = mean_squared_error(img, img)\n",
    "ssim_none = ssim(img, img, data_range=img.max() - img.min())\n",
    "\n",
    "mse_noise = mean_squared_error(img, img_noise)\n",
    "ssim_noise = ssim(img, img_noise,\n",
    "                  data_range=img_noise.max() - img_noise.min())\n",
    "\n",
    "mse_const = mean_squared_error(img, img_const)\n",
    "ssim_const = ssim(img, img_const,\n",
    "                  data_range=img_const.max() - img_const.min())\n",
    "\n",
    "ax[0].imshow(img, cmap=plt.cm.gray, vmin=0, vmax=1)\n",
    "ax[0].set_xlabel(f'MSE: {mse_none:.2f}, SSIM: {ssim_none:.2f}')\n",
    "ax[0].set_title('Original image')\n",
    "\n",
    "ax[1].imshow(img_noise, cmap=plt.cm.gray, vmin=0, vmax=1)\n",
    "ax[1].set_xlabel(f'MSE: {mse_noise:.2f}, SSIM: {ssim_noise:.2f}')\n",
    "ax[1].set_title('Image with noise')\n",
    "\n",
    "ax[2].imshow(img_const, cmap=plt.cm.gray, vmin=0, vmax=1)\n",
    "ax[2].set_xlabel(f'MSE: {mse_const:.2f}, SSIM: {ssim_const:.2f}')\n",
    "ax[2].set_title('Image plus constant')\n",
    "\n",
    "plt.tight_layout()\n",
    "plt.show()"
   ]
  }
 ],
 "metadata": {
  "kernelspec": {
   "display_name": "Python 3 (ipykernel)",
   "language": "python",
   "name": "python3"
  },
  "language_info": {
   "codemirror_mode": {
    "name": "ipython",
    "version": 3
   },
   "file_extension": ".py",
   "mimetype": "text/x-python",
   "name": "python",
   "nbconvert_exporter": "python",
   "pygments_lexer": "ipython3",
   "version": "3.9.7"
  }
 },
 "nbformat": 4,
 "nbformat_minor": 4
}
