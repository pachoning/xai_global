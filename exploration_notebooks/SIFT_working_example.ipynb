{
 "cells": [
  {
   "cell_type": "code",
   "execution_count": null,
   "id": "70dfd6aa-b2fc-40ea-ba41-fdbeb6c62062",
   "metadata": {},
   "outputs": [],
   "source": [
    "import cv2 \n",
    "import matplotlib.pyplot as plt\n",
    "%matplotlib inline"
   ]
  },
  {
   "cell_type": "code",
   "execution_count": null,
   "id": "6e53218a-8d6b-4737-8498-b4855f6f8f81",
   "metadata": {},
   "outputs": [],
   "source": [
    "img1 = cv2.imread('./data/eiffel.jpeg')  \n",
    "gray1 = cv2.cvtColor(img1, cv2.COLOR_BGR2GRAY)"
   ]
  },
  {
   "cell_type": "code",
   "execution_count": null,
   "id": "b2ba7372-3bb5-415d-9f49-6b572f82211e",
   "metadata": {},
   "outputs": [],
   "source": [
    "#keypoints\n",
    "sift = cv2.SIFT_create(nfeatures=1)\n",
    "keypoints_1, descriptors_1 = sift.detectAndCompute(img1,None)\n",
    "\n",
    "img_1 = cv2.drawKeypoints(img1, keypoints_1, img1)\n",
    "plt.imshow(img_1)"
   ]
  },
  {
   "cell_type": "code",
   "execution_count": null,
   "id": "0d3574f2-b1cb-4941-baeb-cc62cd422db3",
   "metadata": {},
   "outputs": [],
   "source": [
    "descriptors_1.shape"
   ]
  },
  {
   "cell_type": "code",
   "execution_count": null,
   "id": "05606d20-743f-4fe2-b055-f027d142a30f",
   "metadata": {},
   "outputs": [],
   "source": [
    "print(img1.shape)\n",
    "print(descriptors_1.shape)\n",
    "print(len(keypoints_1))"
   ]
  },
  {
   "cell_type": "code",
   "execution_count": null,
   "id": "038f7332-2322-4438-b058-5978b438d251",
   "metadata": {},
   "outputs": [],
   "source": [
    "descriptors_1"
   ]
  },
  {
   "cell_type": "code",
   "execution_count": null,
   "id": "ae6a0284-83e8-4a84-bef9-76f51cdbca6f",
   "metadata": {},
   "outputs": [],
   "source": [
    "print(img1.shape)\n",
    "img1[3,:,:]"
   ]
  }
 ],
 "metadata": {
  "kernelspec": {
   "display_name": "xai_cats_dogs_venv",
   "language": "python",
   "name": "xai_cats_dogs_venv"
  },
  "language_info": {
   "codemirror_mode": {
    "name": "ipython",
    "version": 3
   },
   "file_extension": ".py",
   "mimetype": "text/x-python",
   "name": "python",
   "nbconvert_exporter": "python",
   "pygments_lexer": "ipython3",
   "version": "3.9.7"
  }
 },
 "nbformat": 4,
 "nbformat_minor": 5
}
