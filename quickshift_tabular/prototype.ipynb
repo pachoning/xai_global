{
 "cells": [
  {
   "cell_type": "code",
   "execution_count": null,
   "id": "46902e8e-699a-44b5-b591-64f45b79d328",
   "metadata": {},
   "outputs": [],
   "source": [
    "import numpy as np\n",
    "from skimage.segmentation import find_boundaries"
   ]
  },
  {
   "cell_type": "code",
   "execution_count": null,
   "id": "ac45a301-ce2e-495e-9d4e-2ab8e53f26ac",
   "metadata": {},
   "outputs": [],
   "source": [
    "def get_neighbors(mask, element):\n",
    "    \n",
    "    unique_superpixels = np.unique(mask)\n",
    "    total_sp = len(unique_superpixels)\n",
    "    neighbors = []\n",
    "    element_mask = mask == element\n",
    "    for candiate in unique_superpixels:\n",
    "        if candiate != element:\n",
    "            candidate_mask = mask == candiate\n",
    "            candidate_boundary = find_boundaries(candidate_mask, mode='thick')\n",
    "            product = np.multiply(element_mask, candidate_boundary)\n",
    "            is_neighbor = np.any(product)\n",
    "            if is_neighbor:\n",
    "                neighbors.append(candiate)\n",
    "    return neighbors"
   ]
  },
  {
   "cell_type": "code",
   "execution_count": null,
   "id": "a58db472-6eec-4792-9a51-8a83ad20e31d",
   "metadata": {},
   "outputs": [],
   "source": [
    "mask = [\n",
    "    [1,1,2,2,2,2],\n",
    "    [1,1,1,2,2,2],\n",
    "    [1,1,2,3,3,3]\n",
    "]\n",
    "mask = np.array(mask)"
   ]
  },
  {
   "cell_type": "code",
   "execution_count": null,
   "id": "b209743d-a3dd-44ca-9fae-4e32d8383cf0",
   "metadata": {},
   "outputs": [],
   "source": [
    "get_neighbors(mask, 3)"
   ]
  },
  {
   "cell_type": "code",
   "execution_count": null,
   "id": "8ff1f8a6-7aba-49cd-aecd-a0b4d687b5f2",
   "metadata": {},
   "outputs": [],
   "source": [
    "def quickshift_tab(X, superpixels_order, mask,\n",
    "                   ratio=1.0, kernel_size=5, max_dist=10,\n",
    "                   random_seed=42):\n",
    "\n",
    "    if kernel_size < 1:\n",
    "        raise ValueError(\"`kernel_size` should be >= 1.\")\n",
    "        \n",
    "    X = ratio * X\n",
    "\n",
    "    random_state = np.random.default_rng(random_seed)\n",
    "\n",
    "    # window size for neighboring pixels to consider\n",
    "    inv_kernel_size_sqr = -0.5 / (kernel_size * kernel_size)\n",
    "\n",
    "    n = X.shape[0]\n",
    "    p = X.shape[1]\n",
    "\n",
    "    densities = np.zeros(n)\n",
    "    densities += random_state.normal(scale=0.00001, size=n)\n",
    "\n",
    "    parents = np.copy(superpixels_order)\n",
    "    dist_parents = np.zeros(n)\n",
    "\n",
    "    # compute densities\n",
    "    for i in range(n):\n",
    "        cum_feat_dist = 0\n",
    "        current_point = X[i,:]\n",
    "        for i_ in range(n):\n",
    "            other_point = X[i_,:]\n",
    "            feat_dist = np.sum(np.square(current_point - other_point))\n",
    "            cum_feat_dist += feat_dist\n",
    "        cum_feat_dist = inv_kernel_size_sqr*cum_feat_dist\n",
    "        densities[i] += np.exp(cum_feat_dist)\n",
    "\n",
    "    # find nearest node with higher density\n",
    "    for i in range(n):\n",
    "        # Take information for the current superpixel\n",
    "        current_superpixel = superpixels_order[i]\n",
    "        current_point = X[i,:]\n",
    "        current_densisty = densities[i]\n",
    "        \n",
    "        # Take all the neighbors\n",
    "        neighbors = get_neighbors(mask, current_superpixel)\n",
    "        \n",
    "        # If there are neighbors, get all with higher density\n",
    "        total_neighbors = len(neighbors)\n",
    "        min_dist = np.inf\n",
    "        if  total_neighbors > 0:\n",
    "            for j in range(total_neighbors):\n",
    "                neighbor = neighbors[j]\n",
    "                idx_neighbor = np.where(superpixels_order == neighbor)\n",
    "                idx_neighbor = idx_neighbor[0][0]\n",
    "                neighbor_density = densities[idx_neighbor]\n",
    "                if neighbor_density > current_densisty:\n",
    "                    neighbor_point = X[idx_neighbor,:]\n",
    "                    dist_features = np.sum(np.square(current_point - neighbor_point))\n",
    "                    # Get the closest neighbors (in terms of feature space distance)\n",
    "                    if dist_features < min_dist:\n",
    "                        min_dist = dist_features\n",
    "                        parents[i] = neighbor\n",
    "                        dist_parents[i] = dist_features\n",
    "    \n",
    "    # Do not join if distance is greater than the threshold\n",
    "    for i in range(n):\n",
    "        current_dist_parents = dist_parents[i]\n",
    "        if current_dist_parents > max_dist:\n",
    "            parents[i] = superpixels_order[i]\n",
    "            dist_parents[i] = 0\n",
    "\n",
    "    # Build the tree\n",
    "    original_parent = np.empty(shape=superpixels_order.shape, dtype=superpixels_order.dtype)\n",
    "    for i in range(n):\n",
    "        current_superpixel = superpixels_order[i]\n",
    "        parent = parents[i]\n",
    "        old = None\n",
    "        while (old is None) or (old is not None and old != parent):\n",
    "            old = parent\n",
    "            idx_parent = np.where(superpixels_order == parent)\n",
    "            idx_parent = idx_parent[0][0]\n",
    "            parent = parents[idx_parent]\n",
    "        original_parent[i] = parent\n",
    "    return original_parent"
   ]
  },
  {
   "cell_type": "code",
   "execution_count": null,
   "id": "1a988390-e386-4509-bb2c-06116465ec53",
   "metadata": {},
   "outputs": [],
   "source": [
    "mask = [\n",
    "    ['a','a','b','b','b','b'],\n",
    "    ['a','a','a','b','b','b'],\n",
    "    ['a','a','b','c','c','c']\n",
    "]\n",
    "mask = np.array(mask)\n",
    "X = np.array(\n",
    "    [\n",
    "        [3.1,4.1,3.1,6], \n",
    "        [3,4,3,10], \n",
    "        [3,4,3,5]\n",
    "    ]\n",
    ")\n",
    "superpixels_order = np.array(['c', 'a', 'b'])"
   ]
  },
  {
   "cell_type": "code",
   "execution_count": null,
   "id": "e3c876c1-a85e-4bee-8b3f-04cf76717a33",
   "metadata": {},
   "outputs": [],
   "source": [
    "quickshift_tab(X, superpixels_order, mask, ratio=1.0, kernel_size=5, max_dist=1000, random_seed=42)"
   ]
  }
 ],
 "metadata": {
  "environment": {
   "kernel": "conda-root-py",
   "name": "tf2-gpu.2-8.m91",
   "type": "gcloud",
   "uri": "gcr.io/deeplearning-platform-release/tf2-gpu.2-8:m91"
  },
  "kernelspec": {
   "display_name": "Python [conda env:root] *",
   "language": "python",
   "name": "conda-root-py"
  },
  "language_info": {
   "codemirror_mode": {
    "name": "ipython",
    "version": 3
   },
   "file_extension": ".py",
   "mimetype": "text/x-python",
   "name": "python",
   "nbconvert_exporter": "python",
   "pygments_lexer": "ipython3",
   "version": "3.7.12"
  }
 },
 "nbformat": 4,
 "nbformat_minor": 5
}
