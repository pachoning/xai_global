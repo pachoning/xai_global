{
 "cells": [
  {
   "cell_type": "code",
   "execution_count": null,
   "id": "c3a6a33c-2f67-4d3f-96a5-449c032daa5a",
   "metadata": {},
   "outputs": [],
   "source": [
    "import tensorflow as tf\n",
    "from tensorflow import keras\n",
    "import tensorflow_datasets as tfds\n",
    "import numpy as np"
   ]
  },
  {
   "cell_type": "code",
   "execution_count": null,
   "id": "6281df86-dbc2-40e1-bfa3-673bae8affaa",
   "metadata": {},
   "outputs": [],
   "source": [
    "classNames = ['cat', 'dog']\n",
    "split = ['train[:70%]', 'train[70%:]']\n",
    " \n",
    "trainDataset, testDataset = tfds.load(name='cats_vs_dogs', split=split, as_supervised=True, data_dir='./data/train')"
   ]
  },
  {
   "cell_type": "code",
   "execution_count": null,
   "id": "b5e8a308-4c1d-4b52-9bb6-fc79dde5a4ca",
   "metadata": {},
   "outputs": [],
   "source": [
    "HEIGHT = 200\n",
    "WIDTH = 200\n",
    "def preprocess(img, label):\n",
    "    return tf.image.resize(img, [HEIGHT, WIDTH]) / 255, label"
   ]
  },
  {
   "cell_type": "code",
   "execution_count": null,
   "id": "ec877444-fb75-46d0-94ec-8ce3f62ad540",
   "metadata": {},
   "outputs": [],
   "source": [
    "trainDataset = trainDataset.map(preprocess)\n",
    "testDataset = testDataset.map(preprocess)"
   ]
  },
  {
   "cell_type": "code",
   "execution_count": null,
   "id": "6a31d9e8-6ef2-40bd-95ce-a21b58b6d0f9",
   "metadata": {},
   "outputs": [],
   "source": [
    "for im, label in trainDataset.take(1):\n",
    "    print(label)"
   ]
  },
  {
   "cell_type": "code",
   "execution_count": null,
   "id": "077113c3-4bb9-43b4-8f83-08a904bf360d",
   "metadata": {},
   "outputs": [],
   "source": [
    "model = keras.models.load_model('model/model.h5')"
   ]
  },
  {
   "cell_type": "code",
   "execution_count": null,
   "id": "645d4ee6-59da-4b26-a1f7-1c3f5ed8084c",
   "metadata": {},
   "outputs": [],
   "source": [
    "for image, label in trainDataset.take(1):\n",
    "    new_image = np.expand_dims(image, axis=0)\n",
    "    print(label)\n",
    "    print(model.predict(new_image))"
   ]
  }
 ],
 "metadata": {
  "kernelspec": {
   "display_name": "xai_cats_dogs_venv",
   "language": "python",
   "name": "xai_cats_dogs_venv"
  },
  "language_info": {
   "codemirror_mode": {
    "name": "ipython",
    "version": 3
   },
   "file_extension": ".py",
   "mimetype": "text/x-python",
   "name": "python",
   "nbconvert_exporter": "python",
   "pygments_lexer": "ipython3",
   "version": "3.9.7"
  }
 },
 "nbformat": 4,
 "nbformat_minor": 5
}
