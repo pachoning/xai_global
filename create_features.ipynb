{
 "cells": [
  {
   "cell_type": "code",
   "execution_count": null,
   "id": "f334bb4d-909b-4f1b-bf23-6212cfa7b7c1",
   "metadata": {},
   "outputs": [],
   "source": [
    "from skimage import segmentation, io\n",
    "from scipy.cluster.hierarchy import linkage\n",
    "from scipy.spatial.distance import pdist\n",
    "from sklearn.cluster import AgglomerativeClustering\n",
    "from sklearn.metrics.pairwise import euclidean_distances\n",
    "from sklearn.metrics import calinski_harabasz_score, silhouette_score\n",
    "import matplotlib.pyplot as plt\n",
    "from tensorflow import keras\n",
    "import numpy as np\n",
    "import pandas as pd\n",
    "from utils.utils import generate_synthetic_image, plot_dendrogram\n",
    "from utils.image_manager import ImagesManager\n",
    "from utils.mask_manager import MaskManager\n",
    "from utils.features_manager import FeaturesManager\n",
    "import os\n",
    "import warnings\n",
    "plt.rcParams[\"axes.grid\"] = False\n",
    "from sklearn.preprocessing import scale"
   ]
  },
  {
   "cell_type": "code",
   "execution_count": null,
   "id": "f80febae-0b2b-4aed-a5b9-437ca69dc5f8",
   "metadata": {},
   "outputs": [],
   "source": [
    "model = keras.models.load_model('./model/model.h5')"
   ]
  },
  {
   "cell_type": "code",
   "execution_count": null,
   "id": "8d0adfc8-c9a9-4557-9e0e-f09599289ace",
   "metadata": {},
   "outputs": [],
   "source": [
    "#path_to_images = './data/eval_xai_method/dog_resized'\n",
    "path_to_images ='./data/debug'\n",
    "all_images = os.listdir(path_to_images)\n",
    "all_images = [x for x in all_images if x != '.DS_Store']"
   ]
  },
  {
   "cell_type": "code",
   "execution_count": null,
   "id": "9322050b-75f6-455f-9084-9c8005ab3007",
   "metadata": {},
   "outputs": [],
   "source": [
    "all_images"
   ]
  },
  {
   "cell_type": "code",
   "execution_count": null,
   "id": "647db465-0d86-4cfc-903f-c8653bc4d7dc",
   "metadata": {},
   "outputs": [],
   "source": [
    "num_images = len(all_images)"
   ]
  },
  {
   "cell_type": "code",
   "execution_count": null,
   "id": "2aa9fc1a-84cf-4d66-b0b7-f989b397139b",
   "metadata": {},
   "outputs": [],
   "source": [
    "images_chosen = np.random.choice(all_images, size=num_images, replace=False)"
   ]
  },
  {
   "cell_type": "code",
   "execution_count": null,
   "id": "fbc6d227-7a2d-4eca-98ad-fdf0946114d5",
   "metadata": {},
   "outputs": [],
   "source": [
    "images_chosen"
   ]
  },
  {
   "cell_type": "code",
   "execution_count": null,
   "id": "771be7cb-1062-42c4-92c1-ad96c3924c6a",
   "metadata": {},
   "outputs": [],
   "source": [
    "prediction_list = []\n",
    "for image_name in images_chosen:\n",
    "    image_path = os.path.join(path_to_images, image_name)\n",
    "    img = io.imread(image_path)\n",
    "    img_norm = img/255\n",
    "    img_batch = np.expand_dims(img_norm, axis=0)\n",
    "    pred = model.predict(img_batch)\n",
    "    prediction_list.append(pred)\n",
    "    io.imshow(img)\n",
    "    plt.show()\n",
    "    print(pred)"
   ]
  },
  {
   "cell_type": "code",
   "execution_count": null,
   "id": "dceab4a3-03cf-4f10-a049-513abec0b2c6",
   "metadata": {},
   "outputs": [],
   "source": [
    "ratio_pixels_gaussian_kernel = 0.0075 #Corresponde a sigma=4 para una imagen 200x200\n",
    "chi2_95 = 6\n",
    "\n",
    "for image_name in images_chosen[:1]:\n",
    "    image_path = os.path.join(path_to_images, image_name)\n",
    "    img = io.imread(image_path)\n",
    "    img_norm = img/255\n",
    "    x_pixels, y_pixels, _ = img_norm.shape\n",
    "    area_total = x_pixels*y_pixels\n",
    "    s = np.sqrt(area_total)/200\n",
    "    max_dist = 10*s\n",
    "    ratio = 1/2*s\n",
    "    sigma_sq = area_total*ratio_pixels_gaussian_kernel/(chi2_95*np.pi)\n",
    "    sigma = np.sqrt(sigma_sq)\n",
    "    superpixels = segmentation.quickshift(img_norm, kernel_size=sigma, max_dist=max_dist, ratio=ratio)\n",
    "    num_superpixels_image = np.unique(superpixels).shape[0]\n",
    "    img_batch = np.expand_dims(img_norm, axis=0)\n",
    "    pred = model.predict(img_batch)\n",
    "    print('num_superpixels:', num_superpixels_image)\n",
    "    print('image_shape:', img_norm.shape)\n",
    "    print('sigma:', sigma)\n",
    "    print('max_dist:', max_dist)\n",
    "    print('ratio:', ratio)\n",
    "    io.imshow(segmentation.mark_boundaries(img_norm, superpixels, color=(1,0,0), mode='inner'))\n",
    "    plt.show()"
   ]
  },
  {
   "cell_type": "code",
   "execution_count": null,
   "id": "57acd6b0-4186-440c-ab23-a10fdad7b276",
   "metadata": {},
   "outputs": [],
   "source": [
    "def get_superpixels_information(path_to_images, images_extension='jpg',\n",
    "                                normalise_features=False, num_channels=3,\n",
    "                                kernel_size=4, max_dist=10, ratio=.3):\n",
    "    \n",
    "    images_manager = ImagesManager(location=path_to_images, images_extension=images_extension)\n",
    "    images_names = images_manager.get_images_names()\n",
    "    \n",
    "    df_features_list = []\n",
    "    dict_masks = {}\n",
    "    dict_deleted_superpixels = {}\n",
    "    num_superpixels = []\n",
    "    \n",
    "    for image_name in images_names:\n",
    "        masks_manager = MaskManager(location=path_to_images, image_name=image_name)\n",
    "        mask = masks_manager.get_mask(kernel_size=kernel_size, max_dist=max_dist, ratio=ratio)\n",
    "        dict_masks[image_name] = mask\n",
    "        num_superpixels.append(len(np.unique(mask)))\n",
    "        features_manager = FeaturesManager(location=path_to_images, image_name=image_name, \n",
    "                                           mask=mask, normalise_features=True, num_channels=num_channels)\n",
    "        df_features, deleted_superpixels = features_manager.get_features()\n",
    "        \n",
    "        df_features_list.append(df_features)\n",
    "        \n",
    "        if len(deleted_superpixels)>0:\n",
    "            dict_deleted_superpixels[image_name] = deleted_superpixels\n",
    "        \n",
    "    df_all = pd.concat(df_features_list)\n",
    "    \n",
    "    are_empty_values = np.max(df_all.isna().any())\n",
    "    \n",
    "    if are_empty_values:\n",
    "        warnings.warn('There are null values in the dataset')\n",
    "    \n",
    "    \n",
    "    return df_all, dict_masks, dict_deleted_superpixels, num_superpixels"
   ]
  },
  {
   "cell_type": "code",
   "execution_count": null,
   "id": "0473302b-7f36-415c-b5b0-17bb04d3c45a",
   "metadata": {},
   "outputs": [],
   "source": [
    "df_features, masks, superpixels_few_pixels, num_superpixels = get_superpixels_information(\n",
    "    './data/debug', \n",
    "    normalise_features=True\n",
    ")"
   ]
  },
  {
   "cell_type": "code",
   "execution_count": null,
   "id": "892ed745-3ada-4916-adf3-3acc79c1f85f",
   "metadata": {},
   "outputs": [],
   "source": [
    "df_features_drop = df_features.drop(columns=['mass_center0', 'mass_center1'])\n",
    "df_indexes_name = df_features_drop.index.names\n",
    "df_features_no_indexes = df_features_drop.reset_index(inplace=False)"
   ]
  },
  {
   "cell_type": "code",
   "execution_count": null,
   "id": "ac85dfa8-801f-4840-807b-4ab2d716f798",
   "metadata": {},
   "outputs": [],
   "source": [
    "df_features_drop.head()"
   ]
  },
  {
   "cell_type": "code",
   "execution_count": null,
   "id": "819af0b3-9311-43fc-933b-e1f50058c9ca",
   "metadata": {},
   "outputs": [],
   "source": [
    "class Clusteriser:\n",
    "    \n",
    "    def __init__(self, num_superpixels, df):\n",
    "        self.num_superpixels = num_superpixels\n",
    "        self.df = df\n",
    "\n",
    "    def get_fixed_clusters(self, n_cluster):\n",
    "        \n",
    "        cluster = AgglomerativeClustering(n_clusters=n_cluster, linkage='complete', affinity='l1')\n",
    "        results = cluster.fit(self.df)\n",
    "        labels = results.labels_\n",
    "        #metric = calinski_harabasz_score(self.df, labels)\n",
    "        metric = silhouette_score(self.df, labels, metric='euclidean')\n",
    "\n",
    "        return metric, labels\n",
    "    \n",
    "    def get_mutiple_clusters(self):\n",
    "\n",
    "        mean_superpixels = round(np.mean(self.num_superpixels))\n",
    "        n_clusters = range(2, mean_superpixels)\n",
    "        n_clusters_list = []\n",
    "        metric_list = []\n",
    "\n",
    "        for n_cluster in n_clusters:\n",
    "            metric, _ = self.get_fixed_clusters(n_cluster)\n",
    "            metric_list.append(metric)\n",
    "            n_clusters_list.append(n_cluster)\n",
    "            print('n_cluster:', n_cluster, 'metric:', metric)\n",
    "\n",
    "        return n_clusters_list, metric_list\n",
    "        \n",
    "    def get_best_clusterisation(self):\n",
    "        n_clusters_list, metric_list = self.get_mutiple_clusters()\n",
    "        idx_best_metric = np.argmax(metric_list)\n",
    "        best_n_clusters = n_clusters_list[idx_best_metric]\n",
    "\n",
    "        _, labels = self.get_fixed_clusters(10)\n",
    "        return np.array(labels)"
   ]
  },
  {
   "cell_type": "code",
   "execution_count": null,
   "id": "ff1b8179-75d0-4590-9666-e93d9b1768d8",
   "metadata": {},
   "outputs": [],
   "source": [
    "cluster = Clusteriser(num_superpixels=num_superpixels, df=df_features_drop)\n",
    "new_segmentation = cluster.get_best_clusterisation()\n",
    "old_segmentation = df_features_no_indexes.num_superpixel.to_numpy()\n",
    "images_names = df_features_no_indexes.image_name\n",
    "df_mapping = pd.DataFrame({\n",
    "    'new_segmentation': new_segmentation,\n",
    "    'old_segmentation': old_segmentation,\n",
    "    'image_name': images_names\n",
    "})"
   ]
  },
  {
   "cell_type": "code",
   "execution_count": null,
   "id": "bd80a2c3-9240-402c-a823-353493d34112",
   "metadata": {},
   "outputs": [],
   "source": [
    "np.unique(new_segmentation)"
   ]
  },
  {
   "cell_type": "code",
   "execution_count": null,
   "id": "041e5d46-7967-452a-90f1-8c22d68e7f86",
   "metadata": {},
   "outputs": [],
   "source": [
    "def get_new_masks(images_names, old_masks, df_mapping):\n",
    "    \n",
    "    masks = dict()\n",
    "    \n",
    "    for image_name in images_names:\n",
    "        old_mask = old_masks[image_name]\n",
    "        new_mask = np.empty(shape=old_mask.shape, dtype=int)\n",
    "        idx = np.where(df_mapping.image_name == image_name)\n",
    "        df_filter = df_mapping.iloc[idx]\n",
    "        unique_new_clusters = np.unique(df_filter.new_segmentation)\n",
    "\n",
    "        for cl in unique_new_clusters:\n",
    "            idx = np.where(df_filter.new_segmentation == cl)\n",
    "            old_clusters_related = df_filter.old_segmentation.iloc[idx].to_list()\n",
    "            idx = np.where(np.isin(old_mask, old_clusters_related))\n",
    "            new_mask[idx] = cl\n",
    "\n",
    "        masks[image_name] = new_mask\n",
    "    return masks\n",
    "\n",
    "\n",
    "def print_image_mask(masks, images_names, path_to_images):\n",
    "\n",
    "    for image_name in images_names:\n",
    "        mask = masks[image_name]\n",
    "        image_path = os.path.join(path_to_images, image_name)\n",
    "        img = io.imread(image_path)\n",
    "        io.imshow(img)\n",
    "        plt.show()\n",
    "        plt.imshow(mask, vmin=np.min(mask), vmax=np.max(mask))\n",
    "        plt.show()"
   ]
  },
  {
   "cell_type": "code",
   "execution_count": null,
   "id": "86a932eb-35e8-4bba-bccc-d579379cac50",
   "metadata": {},
   "outputs": [],
   "source": [
    "new_segmentation_dic = get_new_masks(\n",
    "    images_names=np.unique(df_features_no_indexes.image_name),\n",
    "    old_masks=masks,\n",
    "    df_mapping=df_mapping\n",
    ")"
   ]
  },
  {
   "cell_type": "code",
   "execution_count": null,
   "id": "faf47a84-8130-449c-ac23-c1e105287c97",
   "metadata": {},
   "outputs": [],
   "source": [
    "print_image_mask(new_segmentation_dic, masks.keys(), path_to_images)"
   ]
  },
  {
   "cell_type": "code",
   "execution_count": null,
   "id": "84b67ee6-b334-4f50-931b-4c7bd210fd1e",
   "metadata": {},
   "outputs": [],
   "source": [
    "unique_clusters = np.unique(new_segmentation)\n",
    "for cluster_selected in unique_clusters:\n",
    "    print('cluster:', cluster_selected)\n",
    "    idx = np.where(new_segmentation == cluster_selected)\n",
    "    df_filter = df_features_no_indexes.iloc[idx]\n",
    "    images_names = np.unique(df_features_no_indexes.image_name.iloc[idx])\n",
    "    \n",
    "    for image_name in images_names:\n",
    "        idx_image_name = np.where(df_filter.image_name == image_name)\n",
    "        image_superpixels = np.unique(df_filter.num_superpixel.iloc[idx_image_name])\n",
    "        idx_image_name_superpixels = np.where(df_filter.num_superpixel.isin(image_superpixels))\n",
    "        df_image_superpixels = df_filter.iloc[idx_image_name_superpixels]\n",
    "        current_img_path = os.path.join(path_to_images, image_name)\n",
    "        current_img = io.imread(current_img_path)\n",
    "        current_mask = masks[image_name]\n",
    "        new_mask = np.isin(current_mask, image_superpixels)\n",
    "        new_mask = new_mask[..., np.newaxis]\n",
    "        new_image = current_img * new_mask \n",
    "        #io.imshow(new_image)\n",
    "        #plt.show()\n",
    "        plt.imshow(new_image, vmin=np.min(new_image), vmax=np.max(new_image))\n",
    "        plt.show()\n",
    "    print('--------------------------------------------')"
   ]
  },
  {
   "cell_type": "code",
   "execution_count": null,
   "id": "2a380939-3716-4986-afeb-e5f4493acd30",
   "metadata": {},
   "outputs": [],
   "source": []
  },
  {
   "cell_type": "markdown",
   "id": "87ab4489-ec68-43c1-b5f9-a2f779e03f60",
   "metadata": {},
   "source": [
    "# Trash"
   ]
  }
 ],
 "metadata": {
  "kernelspec": {
   "display_name": "xai_cats_dogs_venv",
   "language": "python",
   "name": "xai_cats_dogs_venv"
  },
  "language_info": {
   "codemirror_mode": {
    "name": "ipython",
    "version": 3
   },
   "file_extension": ".py",
   "mimetype": "text/x-python",
   "name": "python",
   "nbconvert_exporter": "python",
   "pygments_lexer": "ipython3",
   "version": "3.9.7"
  }
 },
 "nbformat": 4,
 "nbformat_minor": 5
}
