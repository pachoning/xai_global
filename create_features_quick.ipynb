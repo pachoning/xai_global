{
 "cells": [
  {
   "cell_type": "code",
   "execution_count": null,
   "id": "b18f4af2-a30f-4203-9bff-63dd2fc466e8",
   "metadata": {},
   "outputs": [],
   "source": [
    "from skimage import segmentation, io\n",
    "from scipy.cluster.hierarchy import linkage\n",
    "from scipy.spatial.distance import pdist\n",
    "from sklearn.cluster import AgglomerativeClustering\n",
    "from sklearn.metrics.pairwise import euclidean_distances\n",
    "from sklearn.metrics import calinski_harabasz_score, silhouette_score\n",
    "import matplotlib.pyplot as plt\n",
    "from tensorflow import keras\n",
    "import numpy as np\n",
    "import pandas as pd\n",
    "from utils.utils import generate_synthetic_image, plot_dendrogram\n",
    "from utils.image_manager import ImagesManager\n",
    "from utils.mask_manager import MaskManager\n",
    "from utils.features_manager import FeaturesManager\n",
    "from utils.clusteriser import Clusteriser\n",
    "import os\n",
    "import warnings\n",
    "plt.rcParams[\"axes.grid\"] = False\n",
    "from sklearn.preprocessing import scale\n",
    "from quickshift_tabular.quickshift_tabular import quickshift_tab"
   ]
  },
  {
   "cell_type": "code",
   "execution_count": null,
   "id": "f80febae-0b2b-4aed-a5b9-437ca69dc5f8",
   "metadata": {},
   "outputs": [],
   "source": [
    "model = keras.models.load_model('./model/model.h5')"
   ]
  },
  {
   "cell_type": "code",
   "execution_count": null,
   "id": "8d0adfc8-c9a9-4557-9e0e-f09599289ace",
   "metadata": {},
   "outputs": [],
   "source": [
    "path_to_images ='./data/debug'\n",
    "images_extension='jpg'"
   ]
  },
  {
   "cell_type": "code",
   "execution_count": null,
   "id": "5ed1bc5e-a5bc-4a20-8ce4-c4d6aec92889",
   "metadata": {},
   "outputs": [],
   "source": [
    "def get_superpixels_information(path_to_images, images_extension,\n",
    "                                normalise_features=True, num_channels=3,\n",
    "                                kernel_size=4, max_dist=20, ratio=.2,\n",
    "                                kernel_size_tab=1, max_dist_tab=0.3, ratio_tab=0.5,\n",
    "                                verbose=True, num_working_examples=None):\n",
    "\n",
    "    # Get images name\n",
    "    images_manager = ImagesManager(location=path_to_images, images_extension=images_extension)\n",
    "    images_names = images_manager.get_images_names()\n",
    "    if num_working_examples is not None:\n",
    "        images_to_take = num_working_examples\n",
    "        if images_to_take>len(images_names):\n",
    "            images_to_take = len(images_names)\n",
    "        images_names = images_names[:images_to_take]\n",
    "\n",
    "    dict_masks = {}\n",
    "    list_num_superpixels = []\n",
    "    spatial_columns = ['mass_center0', 'mass_center1']\n",
    "\n",
    "    for image_name in images_names:\n",
    "        # Get the image\n",
    "        img = images_manager.get_image(image_name)\n",
    "\n",
    "        # Get the mask\n",
    "        masks_manager = MaskManager()\n",
    "        mask = masks_manager.get_mask(img=img, kernel_size=kernel_size, max_dist=max_dist, ratio=ratio)\n",
    "        num_superpixels_bf = np.unique(mask)\n",
    "        if verbose:\n",
    "            print('---------------------------------------------------------')\n",
    "            print('Working on image:', image_name)\n",
    "            print('\\tNum superpixels before tabular quickshift:', len(num_superpixels_bf))\n",
    "\n",
    "        #Create features for each superpixel\n",
    "        features_manager = FeaturesManager(img=img, image_name=image_name,\n",
    "                                           mask=mask, normalise_features=True, num_channels=num_channels)\n",
    "        df_features, deleted_superpixels = features_manager.get_features()\n",
    "\n",
    "        # Use tabluar quickshift to cluster some superpixels\n",
    "        col_names = df_features.columns.tolist()\n",
    "        col_reodered = spatial_columns + [x for x in col_names if x not in spatial_columns]\n",
    "        df_features = df_features.reindex(columns=col_reodered)\n",
    "        mask_list = [x[0] for x in df_features.index.tolist()]\n",
    "\n",
    "        X = df_features.to_numpy()\n",
    "\n",
    "        mask_tabular_quickshift_list = quickshift_tab(X=X, ratio=ratio_tab,\n",
    "                                                      kernel_size=kernel_size_tab, max_dist=max_dist_tab)\n",
    "        mask_tabluar_quickshift = np.empty(shape=mask.shape)\n",
    "\n",
    "        if verbose:\n",
    "            print('\\tNum superpixels after tabular quickshift:', len(np.unique(mask_tabular_quickshift_list)))\n",
    "        \n",
    "        for original_value, new_value in zip(mask_list, mask_tabular_quickshift_list):\n",
    "            idx = np.where(mask == original_value)\n",
    "            mask_tabluar_quickshift[idx] = new_value\n",
    "        dict_masks[image_name] = mask_tabluar_quickshift\n",
    "        list_num_superpixels.append(len(np.unique(mask_tabular_quickshift_list)))\n",
    "\n",
    "        if verbose:\n",
    "            plt.imshow(img)\n",
    "            plt.show()\n",
    "            plt.imshow(mask_tabluar_quickshift)\n",
    "            plt.show()\n",
    "\n",
    "            for sp_value in np.unique(mask_tabular_quickshift_list):\n",
    "                mk = mask_tabluar_quickshift == sp_value\n",
    "                mk = mk[..., np.newaxis]\n",
    "\n",
    "                img_occluded = img * mk\n",
    "                plt.imshow(img_occluded, vmin=np.min(img_occluded), vmax=np.max(img_occluded))\n",
    "                plt.show()\n",
    "\n",
    "        # Use the new segmentation to create a tabular dataset\n",
    "        features_manager = FeaturesManager(img=img, image_name=image_name,\n",
    "                                           mask=mask_tabluar_quickshift,\n",
    "                                           normalise_features=True, num_channels=num_channels)\n",
    "        df_features, deleted_superpixels = features_manager.get_features()\n",
    "        return df_features, deleted_superpixels, dict_masks, list_num_superpixels\n"
   ]
  },
  {
   "cell_type": "code",
   "execution_count": null,
   "id": "c4fe8659-68f6-429f-8104-53205a94b843",
   "metadata": {},
   "outputs": [],
   "source": [
    "data = get_superpixels_information(path_to_images=path_to_images, images_extension=images_extension,\n",
    "                                   normalise_features=True, num_channels=3,\n",
    "                                   kernel_size=4, max_dist=20, ratio=.2,\n",
    "                                   kernel_size_tab=1, max_dist_tab=0.3, ratio_tab=0.5,\n",
    "                                   verbose=True, num_working_examples=1)"
   ]
  },
  {
   "cell_type": "code",
   "execution_count": null,
   "id": "03a591ab-3ae8-4dc1-8098-6999218917ac",
   "metadata": {},
   "outputs": [],
   "source": [
    "df_features = data[0]\n",
    "deleted_superpixels = data[1]\n",
    "dict_masks = data[2]\n",
    "list_num_superpixels = data[3]"
   ]
  },
  {
   "cell_type": "code",
   "execution_count": null,
   "id": "314a0ad6-25c3-4c7d-87d1-82f2c2ba932a",
   "metadata": {},
   "outputs": [],
   "source": [
    "df_features_drop = df_features.drop(columns = ['mass_center0', 'mass_center1'])"
   ]
  },
  {
   "cell_type": "code",
   "execution_count": null,
   "id": "f6ee3c65-e985-4068-942b-34138ba5d886",
   "metadata": {},
   "outputs": [],
   "source": [
    "class Clusteriser:\n",
    "    \n",
    "    def __init__(self, num_superpixels, df, verbose):\n",
    "        self.num_superpixels = num_superpixels\n",
    "        self.df = df\n",
    "        self.verbose = verbose\n",
    "\n",
    "    def get_fixed_clusters(self, n_cluster):\n",
    "        \n",
    "        cluster = AgglomerativeClustering(n_clusters=n_cluster, linkage='complete', affinity='l1')\n",
    "        results = cluster.fit(self.df)\n",
    "        labels = results.labels_\n",
    "        #metric = calinski_harabasz_score(self.df, labels)\n",
    "        metric = silhouette_score(self.df, labels, metric='euclidean')\n",
    "\n",
    "        return metric, labels\n",
    "    \n",
    "    def get_mutiple_clusters(self, limit=None):\n",
    "        \n",
    "        mean_superpixels = round(np.mean(self.num_superpixels))\n",
    "        total_clusters = mean_superpixels\n",
    "        \n",
    "        if limit is not None:\n",
    "            if limit < mean_superpixels:\n",
    "                total_clusters = limit\n",
    "       \n",
    "        n_clusters = range(2, total_clusters)\n",
    "\n",
    "        n_clusters_list = []\n",
    "        metric_list = []\n",
    "\n",
    "        for n_cluster in n_clusters:\n",
    "            metric, _ = self.get_fixed_clusters(n_cluster)\n",
    "            metric_list.append(metric)\n",
    "            n_clusters_list.append(n_cluster)\n",
    "            if self.verbose:\n",
    "                print('n_cluster:', n_cluster, 'metric:', metric)\n",
    "\n",
    "        return n_clusters_list, metric_list\n",
    "        \n",
    "    #def get_best_clusterisation(self):\n",
    "    #    n_clusters_list, metric_list = self.get_mutiple_clusters()\n",
    "    #    idx_best_metric = np.argmax(metric_list)\n",
    "    #    best_n_clusters = n_clusters_list[idx_best_metric]\n",
    "\n",
    "    #    _, labels = self.get_fixed_clusters(best_n_clusters)\n",
    "    #    return np.array(labels)"
   ]
  },
  {
   "cell_type": "code",
   "execution_count": null,
   "id": "beb42858-ea98-4d74-b267-bc0347072058",
   "metadata": {},
   "outputs": [],
   "source": [
    "cluster = Clusteriser(num_superpixels=list_num_superpixels, df=df_features_drop, verbose=True)\n",
    "n_clusters, metric_list = cluster.get_mutiple_clusters(limit=20)"
   ]
  },
  {
   "cell_type": "code",
   "execution_count": null,
   "id": "f48a9dbc-6f0e-4efb-927c-bcd529630410",
   "metadata": {},
   "outputs": [],
   "source": [
    "plt.scatter(n_clusters, metric_list)"
   ]
  },
  {
   "cell_type": "code",
   "execution_count": null,
   "id": "9afbe7e0-8309-4531-ba7c-04e59d3f7657",
   "metadata": {},
   "outputs": [],
   "source": [
    "metric, new_segmentation = cluster.get_fixed_clusters(n_cluster=6)\n",
    "print(new_segmentation)"
   ]
  },
  {
   "cell_type": "code",
   "execution_count": null,
   "id": "c3b85681-093a-4678-a9e7-b1906ea8a315",
   "metadata": {},
   "outputs": [],
   "source": [
    "df_features_drop.head()"
   ]
  },
  {
   "cell_type": "code",
   "execution_count": null,
   "id": "cd1d8cb4-5501-4168-9eb9-a8b66084a2ae",
   "metadata": {},
   "outputs": [],
   "source": [
    "for cl in new_segmentation:\n",
    "    # Coger todas las (imagenes, superpixeles)\n",
    "    # Para cada imagen, pintar los superpixeles que se activan"
   ]
  }
 ],
 "metadata": {
  "environment": {
   "kernel": "conda-root-py",
   "name": "tf2-gpu.2-8.m91",
   "type": "gcloud",
   "uri": "gcr.io/deeplearning-platform-release/tf2-gpu.2-8:m91"
  },
  "kernelspec": {
   "display_name": "Python [conda env:root] *",
   "language": "python",
   "name": "conda-root-py"
  },
  "language_info": {
   "codemirror_mode": {
    "name": "ipython",
    "version": 3
   },
   "file_extension": ".py",
   "mimetype": "text/x-python",
   "name": "python",
   "nbconvert_exporter": "python",
   "pygments_lexer": "ipython3",
   "version": "3.7.12"
  }
 },
 "nbformat": 4,
 "nbformat_minor": 5
}
