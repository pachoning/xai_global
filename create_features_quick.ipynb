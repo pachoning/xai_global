{
 "cells": [
  {
   "cell_type": "code",
   "execution_count": null,
   "id": "b18f4af2-a30f-4203-9bff-63dd2fc466e8",
   "metadata": {},
   "outputs": [],
   "source": [
    "from skimage import segmentation, io\n",
    "from scipy.cluster.hierarchy import linkage\n",
    "from scipy.spatial.distance import pdist\n",
    "from sklearn.cluster import AgglomerativeClustering\n",
    "from sklearn.metrics.pairwise import euclidean_distances\n",
    "from sklearn.metrics import calinski_harabasz_score, silhouette_score\n",
    "import matplotlib.pyplot as plt\n",
    "from tensorflow import keras\n",
    "import numpy as np\n",
    "import pandas as pd\n",
    "from utils.utils import generate_synthetic_image, plot_dendrogram\n",
    "from utils.image_manager import ImagesManager\n",
    "from utils.mask_manager import MaskManager\n",
    "from utils.features_manager import FeaturesManager\n",
    "import os\n",
    "import warnings\n",
    "plt.rcParams[\"axes.grid\"] = False\n",
    "from sklearn.preprocessing import scale\n",
    "from quickshift_tabular.quickshift_tabular import quickshift_tab"
   ]
  },
  {
   "cell_type": "code",
   "execution_count": null,
   "id": "f80febae-0b2b-4aed-a5b9-437ca69dc5f8",
   "metadata": {},
   "outputs": [],
   "source": [
    "model = keras.models.load_model('./model/model.h5')"
   ]
  },
  {
   "cell_type": "code",
   "execution_count": null,
   "id": "8d0adfc8-c9a9-4557-9e0e-f09599289ace",
   "metadata": {},
   "outputs": [],
   "source": [
    "#path_to_images = './data/eval_xai_method/dog_resized'\n",
    "path_to_images ='./data/debug'\n",
    "all_images = os.listdir(path_to_images)\n",
    "all_images = [x for x in all_images if x != '.DS_Store']"
   ]
  },
  {
   "cell_type": "code",
   "execution_count": null,
   "id": "9322050b-75f6-455f-9084-9c8005ab3007",
   "metadata": {},
   "outputs": [],
   "source": [
    "all_images"
   ]
  },
  {
   "cell_type": "code",
   "execution_count": null,
   "id": "647db465-0d86-4cfc-903f-c8653bc4d7dc",
   "metadata": {},
   "outputs": [],
   "source": [
    "num_images = len(all_images)"
   ]
  },
  {
   "cell_type": "code",
   "execution_count": null,
   "id": "2aa9fc1a-84cf-4d66-b0b7-f989b397139b",
   "metadata": {},
   "outputs": [],
   "source": [
    "images_chosen = np.random.choice(all_images, size=num_images, replace=False)"
   ]
  },
  {
   "cell_type": "code",
   "execution_count": null,
   "id": "5ed1bc5e-a5bc-4a20-8ce4-c4d6aec92889",
   "metadata": {},
   "outputs": [],
   "source": [
    "path_to_images='./data/debug'\n",
    "images_extension='jpg'\n",
    "normalise_features=True\n",
    "num_channels=3\n",
    "kernel_size=4\n",
    "max_dist=20\n",
    "ratio=.2\n",
    "kernel_size_tab=1\n",
    "max_dist_tab=0.3\n",
    "ratio_tab=1\n",
    "\n",
    "\n",
    "images_manager = ImagesManager(location=path_to_images, images_extension=images_extension)\n",
    "#images_names = images_manager.get_images_names()\n",
    "images_names = ['resized_dog.6.jpg']\n",
    "dict_masks = {}\n",
    "spatial_columns = ['mass_center0', 'mass_center1']\n",
    "\n",
    "for image_name in images_names:\n",
    "    masks_manager = MaskManager(location=path_to_images, image_name=image_name)\n",
    "    mask = masks_manager.get_mask(kernel_size=kernel_size, max_dist=max_dist, ratio=ratio)\n",
    "    dict_masks[image_name] = mask\n",
    "\n",
    "    features_manager = FeaturesManager(location=path_to_images, image_name=image_name, \n",
    "                                       mask=mask, normalise_features=True, num_channels=num_channels)\n",
    "    df_features, deleted_superpixels = features_manager.get_features()\n",
    "    col_names = df_features.columns.tolist()\n",
    "    col_reodered = spatial_columns + [x for x in col_names if x not in spatial_columns]\n",
    "    df_features = df_features.reindex(columns=col_reodered)\n",
    "    mask_list = [x[0] for x in df_features.index.tolist()]\n",
    "\n",
    "    X = df_features.to_numpy()\n",
    "    \n",
    "    mask_tabular_quickshift_list = quickshift_tab(X=X, ratio=ratio_tab, \n",
    "                                             kernel_size=kernel_size_tab, max_dist=max_dist_tab)\n",
    "    mask_tabluar_quickshift = np.empty(shape=mask.shape)\n",
    "    \n",
    "    for original_value, new_value in zip(mask_list, mask_tabular_quickshift_list):\n",
    "        idx = np.where(mask == original_value)\n",
    "        mask_tabluar_quickshift[idx] = new_value\n",
    "    \n",
    "    image_path = os.path.join(path_to_images, image_name)\n",
    "    img = io.imread(image_path)\n",
    "    plt.imshow(img)\n",
    "    plt.show()\n",
    "    \n",
    "    plt.imshow(mask_tabluar_quickshift)\n",
    "    plt.show()\n",
    "    for sp_value in np.unique(mask_tabular_quickshift_list):\n",
    "        mk = mask_tabluar_quickshift == sp_value\n",
    "        mk = mk[..., np.newaxis]\n",
    "        \n",
    "        img_occluded = img * mk\n",
    "        plt.imshow(img_occluded, vmin=np.min(img_occluded), vmax=np.max(img_occluded))\n",
    "        plt.show()\n",
    "        "
   ]
  },
  {
   "cell_type": "code",
   "execution_count": null,
   "id": "c4fe8659-68f6-429f-8104-53205a94b843",
   "metadata": {},
   "outputs": [],
   "source": [
    "df_features.head()"
   ]
  },
  {
   "cell_type": "code",
   "execution_count": null,
   "id": "314a0ad6-25c3-4c7d-87d1-82f2c2ba932a",
   "metadata": {},
   "outputs": [],
   "source": [
    "mask"
   ]
  },
  {
   "cell_type": "code",
   "execution_count": null,
   "id": "59cc8799-ca9d-4655-b168-31268b6c55ab",
   "metadata": {},
   "outputs": [],
   "source": [
    "id_0 = np.where(mask==0)\n",
    "id_1 = np.where(mask==1)\n",
    "print(id_0)\n",
    "print(id_1)"
   ]
  },
  {
   "cell_type": "markdown",
   "id": "87ab4489-ec68-43c1-b5f9-a2f779e03f60",
   "metadata": {},
   "source": [
    "# Trash"
   ]
  }
 ],
 "metadata": {
  "kernelspec": {
   "display_name": "xai_cats_dogs_venv",
   "language": "python",
   "name": "xai_cats_dogs_venv"
  },
  "language_info": {
   "codemirror_mode": {
    "name": "ipython",
    "version": 3
   },
   "file_extension": ".py",
   "mimetype": "text/x-python",
   "name": "python",
   "nbconvert_exporter": "python",
   "pygments_lexer": "ipython3",
   "version": "3.9.7"
  }
 },
 "nbformat": 4,
 "nbformat_minor": 5
}
