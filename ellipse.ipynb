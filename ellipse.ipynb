{
 "cells": [
  {
   "cell_type": "code",
   "execution_count": 8,
   "id": "e10fc39b-2d87-45a6-863f-c74251365961",
   "metadata": {},
   "outputs": [],
   "source": [
    "import numpy as np\n",
    "import matplotlib.pyplot as plt\n",
    "from skimage.measure import EllipseModel"
   ]
  },
  {
   "cell_type": "code",
   "execution_count": 41,
   "id": "e5c3bd7d-905e-4499-a3a3-a7807c644b8f",
   "metadata": {},
   "outputs": [],
   "source": [
    "t = np.linspace(0, 2 * np.pi, 50)\n",
    "xc, yc = 20, 30\n",
    "a, b = 5, 10\n",
    "x = xc + a * np.cos(t)\n",
    "y = yc + b * np.sin(t)\n",
    "data = np.column_stack([x, y])\n",
    "data += rng.normal(size=data.shape)"
   ]
  },
  {
   "cell_type": "code",
   "execution_count": 48,
   "id": "88c6d9ec-75e5-4d0a-bbda-61b803075aec",
   "metadata": {},
   "outputs": [
    {
     "data": {
      "text/plain": [
       "array([30.        , 31.27877162, 32.53654584, 33.75267005, 34.90717552,\n",
       "       35.9811053 , 36.95682551, 37.81831482, 38.55142763, 39.14412623,\n",
       "       39.58667853, 39.87181783, 39.99486216, 39.95379113, 39.74927912,\n",
       "       39.38468422, 38.86599306, 38.20172255, 37.40277997, 36.48228395,\n",
       "       35.45534901, 34.33883739, 33.15108218, 31.91158629, 30.6407022 ,\n",
       "       29.3592978 , 28.08841371, 26.84891782, 25.66116261, 24.54465099,\n",
       "       23.51771605, 22.59722003, 21.79827745, 21.13400694, 20.61531578,\n",
       "       20.25072088, 20.04620887, 20.00513784, 20.12818217, 20.41332147,\n",
       "       20.85587377, 21.44857237, 22.18168518, 23.04317449, 24.0188947 ,\n",
       "       25.09282448, 26.24732995, 27.46345416, 28.72122838, 30.        ])"
      ]
     },
     "execution_count": 48,
     "metadata": {},
     "output_type": "execute_result"
    }
   ],
   "source": []
  },
  {
   "cell_type": "code",
   "execution_count": 42,
   "id": "4a4a91a3-049f-47af-b687-65322309af08",
   "metadata": {},
   "outputs": [],
   "source": [
    "ellipse = EllipseModel()\n",
    "ellipse.estimate(data)\n",
    "params = ellipse.params"
   ]
  },
  {
   "cell_type": "code",
   "execution_count": 43,
   "id": "1f076793-1bfb-4c2d-8a13-ed73acf3fcb3",
   "metadata": {},
   "outputs": [],
   "source": [
    "def get_ellipse_point(t, params):\n",
    "    \n",
    "    xc, yc, a, b, theta = params\n",
    "    \n",
    "    xt = xc + a*np.cos(theta)*np.cos(t) - b*np.sin(theta)*np.sin(t)\n",
    "    yt = yc + a*np.sin(theta)*np.cos(t) + b*np.cos(theta)*np.sin(t)\n",
    "    \n",
    "    return xt, yt"
   ]
  },
  {
   "cell_type": "code",
   "execution_count": 44,
   "id": "f6cd4720-c1aa-4db0-88a3-453cc1c5d090",
   "metadata": {},
   "outputs": [],
   "source": [
    "t = np.arange(0, 2*np.pi, step=2*np.pi/100)\n",
    "points = get_ellipse_point(t=t, params=params)"
   ]
  },
  {
   "cell_type": "code",
   "execution_count": 45,
   "id": "183396f8-045d-40fc-b15b-617635531671",
   "metadata": {},
   "outputs": [
    {
     "data": {
      "text/plain": [
       "[<matplotlib.lines.Line2D at 0x12986fac0>]"
      ]
     },
     "execution_count": 45,
     "metadata": {},
     "output_type": "execute_result"
    },
    {
     "data": {
      "image/png": "[encoded data removed]",
      "text/plain": [
       "<Figure size 432x288 with 1 Axes>"
      ]
     },
     "metadata": {
      "needs_background": "light"
     },
     "output_type": "display_data"
    }
   ],
   "source": [
    "plt.plot(data[:,0],data[:,1], '.')\n",
    "plt.plot(points[0],points[1], '-')"
   ]
  },
  {
   "cell_type": "code",
   "execution_count": 40,
   "id": "ba360647-62c4-4180-83e9-2d932cb4806b",
   "metadata": {},
   "outputs": [
    {
     "data": {
      "text/plain": [
       "[20.19827548881676,\n",
       " 30.101065227639445,\n",
       " 5.60861891213653,\n",
       " 9.793221098311871,\n",
       " 0.0064876150423482494]"
      ]
     },
     "execution_count": 40,
     "metadata": {},
     "output_type": "execute_result"
    }
   ],
   "source": [
    "params"
   ]
  }
 ],
 "metadata": {
  "kernelspec": {
   "display_name": "xai_cats_dogs_venv",
   "language": "python",
   "name": "xai_cats_dogs_venv"
  },
  "language_info": {
   "codemirror_mode": {
    "name": "ipython",
    "version": 3
   },
   "file_extension": ".py",
   "mimetype": "text/x-python",
   "name": "python",
   "nbconvert_exporter": "python",
   "pygments_lexer": "ipython3",
   "version": "3.9.7"
  }
 },
 "nbformat": 4,
 "nbformat_minor": 5
}
