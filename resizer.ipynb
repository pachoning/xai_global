{
 "cells": [
  {
   "cell_type": "code",
   "execution_count": null,
   "id": "a43727b3-fe78-49ff-893f-5d672a0fc84b",
   "metadata": {},
   "outputs": [],
   "source": [
    "from PIL import Image\n",
    "import os"
   ]
  },
  {
   "cell_type": "code",
   "execution_count": null,
   "id": "ca98a27c-451c-4682-920a-b2f1690eadcf",
   "metadata": {},
   "outputs": [],
   "source": [
    "root_folder = './data/eval_xai_method/cat'\n",
    "save_folder = './data/eval_xai_method/cat_resized'"
   ]
  },
  {
   "cell_type": "code",
   "execution_count": null,
   "id": "00c6be52-841f-4aec-8275-d4ee517ce5e3",
   "metadata": {},
   "outputs": [],
   "source": [
    "image_name = 'cat.0.jpg'\n",
    "full_path = os.path.join(root_folder, image_name)"
   ]
  },
  {
   "cell_type": "code",
   "execution_count": null,
   "id": "afa667a4-21a6-4f13-80ed-9f754a23e173",
   "metadata": {},
   "outputs": [],
   "source": [
    "im = Image.open(full_path)\n",
    "im_resized = im.resize((200, 200))\n",
    "display(im_resized)"
   ]
  },
  {
   "cell_type": "code",
   "execution_count": null,
   "id": "5a6cfe27-f2bb-4816-b23c-cb70fb2d38fa",
   "metadata": {},
   "outputs": [],
   "source": [
    "def resize_images(root_folder, save_folder, size, image_extension='jpg'):\n",
    "    # Create the folder if it does not exist\n",
    "    if not os.path.exists(save_folder):\n",
    "        os.mkdir(save_folder)\n",
    "    \n",
    "    # Read all images\n",
    "    content = os.listdir(root_folder)\n",
    "    images_names = [x for x in content if x.split('.')[-1] == image_extension]\n",
    "    \n",
    "    total_images = len(images_names)\n",
    "    for i, image_name in enumerate(images_names):\n",
    "        if i%1000 == 0:\n",
    "            print('Working on image', i, 'out of', total_images)\n",
    "        full_path = os.path.join(root_folder, image_name)\n",
    "        im = Image.open(full_path)\n",
    "        #print(im.size)\n",
    "        im_resized = im.resize(size)\n",
    "        #print(im_resized.size)\n",
    "        new_image_name = 'resized_{}'.format(image_name)\n",
    "        full_path = os.path.join(save_folder, new_image_name)\n",
    "        im_resized.save(full_path)\n",
    "        "
   ]
  },
  {
   "cell_type": "code",
   "execution_count": null,
   "id": "00ef16a8-1511-4f86-810b-81598d1f3e40",
   "metadata": {},
   "outputs": [],
   "source": [
    "root_folder = './data/eval_xai_method/cat'\n",
    "save_folder = './data/eval_xai_method/cat_resized'\n",
    "size = (200, 200)\n",
    "resize_images(root_folder=root_folder, save_folder=save_folder, size=size, image_extension='jpg')"
   ]
  },
  {
   "cell_type": "code",
   "execution_count": null,
   "id": "4b8fb1d8-59a0-4810-8e51-868befc6e824",
   "metadata": {},
   "outputs": [],
   "source": [
    "root_folder = './data/eval_xai_method/dog'\n",
    "save_folder = './data/eval_xai_method/dog_resized'\n",
    "size = (200, 200)\n",
    "resize_images(root_folder=root_folder, save_folder=save_folder, size=size, image_extension='jpg')"
   ]
  }
 ],
 "metadata": {
  "kernelspec": {
   "display_name": "xai_cats_dogs_venv",
   "language": "python",
   "name": "xai_cats_dogs_venv"
  },
  "language_info": {
   "codemirror_mode": {
    "name": "ipython",
    "version": 3
   },
   "file_extension": ".py",
   "mimetype": "text/x-python",
   "name": "python",
   "nbconvert_exporter": "python",
   "pygments_lexer": "ipython3",
   "version": "3.9.7"
  }
 },
 "nbformat": 4,
 "nbformat_minor": 5
}
