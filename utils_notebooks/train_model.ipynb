{
 "cells": [
  {
   "cell_type": "code",
   "execution_count": null,
   "id": "016419d0-8721-4edc-ba70-2ef2d7d0dbe3",
   "metadata": {},
   "outputs": [],
   "source": [
    "import tensorflow as tf\n",
    "import tensorflow_datasets as tfds\n",
    "import matplotlib.pyplot as plt\n",
    "from tensorflow import keras"
   ]
  },
  {
   "cell_type": "code",
   "execution_count": null,
   "id": "6f4fcf27-1ee1-435c-9706-ec41a1c857fe",
   "metadata": {},
   "outputs": [],
   "source": [
    "classNames = ['cat', 'dog']\n",
    "split = ['train[:70%]', 'train[70%:]']\n",
    " \n",
    "trainDataset, testDataset = tfds.load(name='cats_vs_dogs', split=split, as_supervised=True, data_dir='./data/train')"
   ]
  },
  {
   "cell_type": "code",
   "execution_count": null,
   "id": "509e634f-1512-4273-b149-6bf98e7e779a",
   "metadata": {},
   "outputs": [],
   "source": [
    "i = 0\n",
    "fig, ax = plt.subplots(1, 8)\n",
    "for image, label in testDataset.take(8):\n",
    "    ax[i].axis('off')\n",
    "    print(label)\n",
    "    ax[i].set_title(classNames[label])\n",
    "    ax[i].imshow(image)\n",
    "    i += 1\n",
    "\n",
    "plt.show()"
   ]
  },
  {
   "cell_type": "code",
   "execution_count": null,
   "id": "999659d6-3bb5-4290-b84d-e1bcb3533b57",
   "metadata": {},
   "outputs": [],
   "source": [
    "HEIGHT = 200\n",
    "WIDTH = 200\n",
    "def preprocess(img, label):\n",
    "    return tf.image.resize(img, [HEIGHT, WIDTH]) / 255, label"
   ]
  },
  {
   "cell_type": "code",
   "execution_count": null,
   "id": "87cae146-9a2a-4359-bbf2-97d014bff3e3",
   "metadata": {},
   "outputs": [],
   "source": [
    "trainDataset = trainDataset.map(preprocess).batch(32)\n",
    "testDataset = testDataset.map(preprocess).batch(32)"
   ]
  },
  {
   "cell_type": "code",
   "execution_count": null,
   "id": "b15ab411-6362-490f-a4a6-dcc36c4de88f",
   "metadata": {},
   "outputs": [],
   "source": [
    "model = keras.Sequential([\n",
    "    keras.layers.Conv2D(16, (3, 3), activation='relu', input_shape=(HEIGHT, WIDTH, 3)),\n",
    "    keras.layers.MaxPooling2D((2, 2)),\n",
    "    keras.layers.Conv2D(32, (3, 3), activation='relu'),\n",
    "    keras.layers.MaxPooling2D((2, 2)),\n",
    "    keras.layers.Conv2D(64, (3, 3), activation='relu'),\n",
    "    keras.layers.MaxPooling2D((2, 2)),\n",
    "    keras.layers.Flatten(),\n",
    "    keras.layers.Dense(512, activation='relu'),\n",
    "    keras.layers.Dense(1, activation='sigmoid')\n",
    "])"
   ]
  },
  {
   "cell_type": "code",
   "execution_count": null,
   "id": "60bd4dee-d19f-4899-96f6-0ef16fadac5d",
   "metadata": {},
   "outputs": [],
   "source": [
    "model.compile(optimizer='adam', loss='binary_crossentropy', metrics=['accuracy'])"
   ]
  },
  {
   "cell_type": "code",
   "execution_count": null,
   "id": "c898d0f5-da90-4fe2-8265-a0c2de1aa53f",
   "metadata": {},
   "outputs": [],
   "source": [
    "trainHistory = model.fit(trainDataset, epochs=10, validation_data=testDataset)"
   ]
  },
  {
   "cell_type": "code",
   "execution_count": null,
   "id": "2278a7b0-343b-4aed-aad4-768c064c1d92",
   "metadata": {},
   "outputs": [],
   "source": [
    "model.save('./model/model.h5')"
   ]
  }
 ],
 "metadata": {
  "environment": {
   "kernel": "conda-root-py",
   "name": "tf2-gpu.2-8.m91",
   "type": "gcloud",
   "uri": "gcr.io/deeplearning-platform-release/tf2-gpu.2-8:m91"
  },
  "kernelspec": {
   "display_name": "Python [conda env:root] *",
   "language": "python",
   "name": "conda-root-py"
  },
  "language_info": {
   "codemirror_mode": {
    "name": "ipython",
    "version": 3
   },
   "file_extension": ".py",
   "mimetype": "text/x-python",
   "name": "python",
   "nbconvert_exporter": "python",
   "pygments_lexer": "ipython3",
   "version": "3.7.12"
  }
 },
 "nbformat": 4,
 "nbformat_minor": 5
}
