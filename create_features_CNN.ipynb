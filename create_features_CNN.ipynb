{
 "cells": [
  {
   "cell_type": "code",
   "execution_count": null,
   "id": "d3b31709-b107-455d-9c23-58cb542159ed",
   "metadata": {},
   "outputs": [],
   "source": [
    "import os\n",
    "from skimage import io, segmentation\n",
    "import matplotlib.pyplot as plt\n",
    "from tensorflow import keras\n",
    "from tensorflow.keras.preprocessing import image\n",
    "from tensorflow.keras.applications.vgg16 import VGG16\n",
    "from tensorflow.keras.applications.vgg16 import preprocess_input\n",
    "import numpy as np\n",
    "import pandas as pd\n",
    "from sklearn.cluster import AgglomerativeClustering\n",
    "from sklearn.metrics.pairwise import euclidean_distances\n",
    "from sklearn.metrics import calinski_harabasz_score, silhouette_score\n",
    "from utils.mask_manager import MaskManager\n",
    "from utils.image_manager import ImagesManager"
   ]
  },
  {
   "cell_type": "code",
   "execution_count": null,
   "id": "45a15585-b304-4a59-8399-fdb9f8e17daf",
   "metadata": {},
   "outputs": [],
   "source": [
    "path_to_images='./data/debug'\n",
    "images_extension = 'jpg'"
   ]
  },
  {
   "cell_type": "code",
   "execution_count": null,
   "id": "c97b8145-5963-4250-972b-20ee85fdca41",
   "metadata": {},
   "outputs": [],
   "source": [
    "# Pretrained model\n",
    "model = VGG16(weights='imagenet', include_top=False)"
   ]
  },
  {
   "cell_type": "code",
   "execution_count": null,
   "id": "13b4ffc9-e852-4d6f-92fd-01760aa8663a",
   "metadata": {},
   "outputs": [],
   "source": [
    "# Load the model that classifies the images\n",
    "classifier = keras.models.load_model('./model/model.h5')"
   ]
  },
  {
   "cell_type": "code",
   "execution_count": null,
   "id": "262f452c-5291-44bb-bff7-1aee775934b0",
   "metadata": {},
   "outputs": [],
   "source": [
    "def get_smalles_patch(img, mask, num_superpixel):\n",
    "        \n",
    "        idx_mask = np.where(mask == num_superpixel)\n",
    "        min_idx = np.min(idx_mask, axis=-1)\n",
    "        max_idx = np.max(idx_mask, axis=-1)\n",
    "        slicer = []\n",
    "        for min_val, max_val in zip(min_idx, max_idx):\n",
    "            slice_dim = slice(min_val, max_val+1, 1)\n",
    "            slicer.append(slice_dim)\n",
    "            \n",
    "        slicer = tuple(slicer)\n",
    "        sliced_image = img[slicer]\n",
    "        return img[slicer]\n",
    "\n",
    "def get_superpixels_information(classifier_model, path_to_images, images_extension=images_extension,\n",
    "                                verbose=False,\n",
    "                                kernel_size=12, max_dist=10, ratio=.3,\n",
    "                                target_size=(224, 224)):\n",
    "    \n",
    "    images_manager = ImagesManager(location=path_to_images, images_extension=images_extension)\n",
    "    images_names = images_manager.get_images_names()\n",
    "\n",
    "    dict_predictions = {}\n",
    "    dict_masks = {}\n",
    "    list_image_name = []\n",
    "    list_num_superpixels = []\n",
    "    list_superpixel_label = []\n",
    "    list_superpixels_features = []\n",
    "    list_features = []\n",
    "    total_zeros = []\n",
    "    print('Total images:', len(images_names))\n",
    "    for image_name in images_names:\n",
    "        print('Working on image:', image_name)\n",
    "        img = images_manager.get_image(image_name)\n",
    "        batch_image = np.expand_dims(img, axis=0)\n",
    "        batch_image = batch_image/255\n",
    "        pred = classifier_model.predict(batch_image)\n",
    "        dict_predictions[image_name] = pred[0][0]\n",
    "        masks_manager = MaskManager()\n",
    "        mask = masks_manager.get_mask(img=img, kernel_size=kernel_size, max_dist=max_dist, ratio=ratio)\n",
    "        dict_masks[image_name] = mask\n",
    "        current_image = images_manager.get_image(image_name)\n",
    "        if verbose:\n",
    "            io.imshow(segmentation.mark_boundaries(current_image, mask, color=(1,0,0), mode='inner'))\n",
    "            plt.show()\n",
    "\n",
    "        list_superpixels = np.unique(mask)\n",
    "        print('\\tNumber of superpixels:', len(list_superpixels))\n",
    "        list_num_superpixels.append(len(list_superpixels))\n",
    "        \n",
    "        for sp in list_superpixels:\n",
    "            # Find the smallest superpixel\n",
    "            smallest_patch = get_smalles_patch(img=current_image, mask=mask, num_superpixel=sp)\n",
    "            if verbose:\n",
    "                print('\\t---------------------------------------------')\n",
    "                print('\\t\\tBefore resizing')\n",
    "\n",
    "                io.imshow(smallest_patch/255)\n",
    "                plt.show()\n",
    "\n",
    "            # Use the desiderable target_size\n",
    "            smallest_patch = image.smart_resize(smallest_patch, size=target_size)\n",
    "            if verbose:\n",
    "                print('\\t\\tAfter resizing')\n",
    "                io.imshow(smallest_patch/255)\n",
    "                plt.show()\n",
    "\n",
    "            # Get the features\n",
    "            smallest_patch = np.expand_dims(smallest_patch, axis=0)\n",
    "            features = model(smallest_patch)\n",
    "            features = np.array(features)\n",
    "            features = features.flatten()\n",
    "            total_zeros.append(np.sum(features <= 10**(-7)))\n",
    "\n",
    "            #Append information\n",
    "            list_image_name.append(image_name)\n",
    "            list_superpixel_label.append(sp)\n",
    "            list_superpixels_features.append(features)\n",
    "        df_features = pd.DataFrame(np.array(list_superpixels_features))\n",
    "        df_features['image_name'] = list_image_name\n",
    "        df_features['superpixel_label'] = list_superpixel_label\n",
    "        df_features.set_index(['image_name', 'superpixel_label'], inplace=True)\n",
    "    return df_features, dict_masks, total_zeros, list_num_superpixels, dict_predictions"
   ]
  },
  {
   "cell_type": "code",
   "execution_count": null,
   "id": "8417fd68-d09a-4ba1-9926-15741af69d97",
   "metadata": {},
   "outputs": [],
   "source": [
    "data = get_superpixels_information(path_to_images=path_to_images,\n",
    "                                   verbose=False,\n",
    "                                   max_dist=15,\n",
    "                                   kernel_size=12,\n",
    "                                   ratio=0.3,\n",
    "                                   target_size=(224, 224),\n",
    "                                   classifier_model=classifier)"
   ]
  },
  {
   "cell_type": "code",
   "execution_count": null,
   "id": "29d5cd8a-5487-47e5-9e62-9a71021aa0d0",
   "metadata": {},
   "outputs": [],
   "source": [
    "df_features = data[0]\n",
    "dict_masks = data[1]\n",
    "total_zeros = data[2]\n",
    "list_num_superpixels = data[3]\n",
    "dict_predictions = data[4]"
   ]
  },
  {
   "cell_type": "code",
   "execution_count": null,
   "id": "f6cadc94-cecc-47a4-9932-bfa82f78a08d",
   "metadata": {},
   "outputs": [],
   "source": [
    "df_features.head()"
   ]
  },
  {
   "cell_type": "code",
   "execution_count": null,
   "id": "646432e5-316b-48cc-bfa0-972e659b7741",
   "metadata": {},
   "outputs": [],
   "source": [
    "dict_predictions"
   ]
  },
  {
   "cell_type": "code",
   "execution_count": null,
   "id": "a419e0af-d8c3-412b-a775-18835f9ea2cb",
   "metadata": {},
   "outputs": [],
   "source": [
    "np.mean(total_zeros)"
   ]
  },
  {
   "cell_type": "code",
   "execution_count": null,
   "id": "4874604f-3800-43d6-8cce-e8005cf92830",
   "metadata": {},
   "outputs": [],
   "source": [
    "class Clusteriser:\n",
    "    \n",
    "    def __init__(self, num_superpixels, df, verbose):\n",
    "        self.num_superpixels = num_superpixels\n",
    "        self.df = df\n",
    "        self.verbose = verbose\n",
    "\n",
    "    def get_fixed_clusters(self, n_cluster):\n",
    "        \n",
    "        cluster = AgglomerativeClustering(n_clusters=n_cluster, linkage='complete', affinity='l1')\n",
    "        results = cluster.fit(self.df)\n",
    "        labels = results.labels_\n",
    "        #metric = calinski_harabasz_score(self.df, labels)\n",
    "        metric = silhouette_score(self.df, labels, metric='euclidean')\n",
    "\n",
    "        return metric, labels\n",
    "    \n",
    "    def get_mutiple_clusters(self, limit=None):\n",
    "        \n",
    "        mean_superpixels = round(np.mean(self.num_superpixels))\n",
    "        total_clusters = mean_superpixels\n",
    "        \n",
    "        if limit is not None:\n",
    "            if limit < mean_superpixels:\n",
    "                total_clusters = limit\n",
    "       \n",
    "        n_clusters = range(2, total_clusters)\n",
    "\n",
    "        n_clusters_list = []\n",
    "        metric_list = []\n",
    "\n",
    "        for n_cluster in n_clusters:\n",
    "            metric, _ = self.get_fixed_clusters(n_cluster)\n",
    "            metric_list.append(metric)\n",
    "            n_clusters_list.append(n_cluster)\n",
    "            if self.verbose:\n",
    "                print('n_cluster:', n_cluster, 'metric:', metric)\n",
    "\n",
    "        return n_clusters_list, metric_list\n",
    "        \n",
    "    #def get_best_clusterisation(self):\n",
    "    #    n_clusters_list, metric_list = self.get_mutiple_clusters()\n",
    "    #    idx_best_metric = np.argmax(metric_list)\n",
    "    #    best_n_clusters = n_clusters_list[idx_best_metric]\n",
    "\n",
    "    #    _, labels = self.get_fixed_clusters(best_n_clusters)\n",
    "    #    return np.array(labels)"
   ]
  },
  {
   "cell_type": "code",
   "execution_count": null,
   "id": "33909000-ebef-45b2-b509-4f673d8519a5",
   "metadata": {},
   "outputs": [],
   "source": [
    "cluster = Clusteriser(num_superpixels=list_num_superpixels, df=df_features, verbose=False)\n",
    "n_clusters, metric_list = cluster.get_mutiple_clusters(limit=20)"
   ]
  },
  {
   "cell_type": "code",
   "execution_count": null,
   "id": "f2bb2981-b4ae-4cea-9a71-3231033f0a8a",
   "metadata": {},
   "outputs": [],
   "source": [
    "plt.scatter(n_clusters, metric_list)"
   ]
  },
  {
   "cell_type": "code",
   "execution_count": null,
   "id": "69033d60-ec59-49a0-b162-e61f3de8f96d",
   "metadata": {},
   "outputs": [],
   "source": [
    "metric, new_segmentation = cluster.get_fixed_clusters(n_cluster=6)\n",
    "print(new_segmentation)"
   ]
  },
  {
   "cell_type": "code",
   "execution_count": null,
   "id": "569cae32-fc0d-40a9-91cc-d5b59b78aa6f",
   "metadata": {},
   "outputs": [],
   "source": [
    "# Pintar que cae en cada cluster"
   ]
  },
  {
   "cell_type": "code",
   "execution_count": null,
   "id": "6043c7a5-b54a-46db-b275-e5df30d1f642",
   "metadata": {},
   "outputs": [],
   "source": [
    "df_features_no_index = df_features.reset_index()\n",
    "df_features_no_index.head()"
   ]
  },
  {
   "cell_type": "code",
   "execution_count": null,
   "id": "f162df7f-cf50-48ad-abca-0e5ac3d85860",
   "metadata": {},
   "outputs": [],
   "source": [
    "unique_new_clusters = np.unique(new_segmentation)\n",
    "image_manager = ImagesManager(location=path_to_images, images_extension=images_extension)\n",
    "dict_comparison = {\n",
    "    'image_name': [], \n",
    "    'new_cluster': [],\n",
    "    'base_prediction':[], \n",
    "    'occluded_prediction':[]\n",
    "}\n",
    "for new_cluster in unique_new_clusters:\n",
    "    idx = np.where(new_segmentation == new_cluster)\n",
    "    df_filter = df_features_no_index.loc[idx]\n",
    "    \n",
    "    # Take all the pairs (image, superpixel)\n",
    "    image_name_superpixel = df_filter[['image_name', 'superpixel_label']]\n",
    "    \n",
    "    # For each pair, perform an occlusion\n",
    "    for index, row in df_filter.iterrows():\n",
    "        \n",
    "        # Take name and superpixel\n",
    "        image_name = row['image_name']\n",
    "        superpixel = row['superpixel_label']\n",
    "\n",
    "        # get the image\n",
    "        img = image_manager.get_image(image_name)\n",
    "        mask = dict_masks[image_name]\n",
    "\n",
    "        # Take the positions of that superpixel\n",
    "        idx_superpixel = np.where(mask == superpixel)\n",
    "        \n",
    "        # Occlude the image\n",
    "        img_occluded = img\n",
    "        img_occluded[idx_superpixel] = 0\n",
    "\n",
    "        # Predict the probability of being classified as dog\n",
    "        img_occluded = np.expand_dims(img_occluded, axis=0)\n",
    "        img_occluded = img_occluded/255\n",
    "        occluded_prediction = classifier.predict(img_occluded)\n",
    "        occluded_prediction = occluded_prediction[0][0]\n",
    "        base_prediction = dict_predictions[image_name]\n",
    "        \n",
    "        # Create the output\n",
    "        dict_comparison['image_name'].append(image_name)\n",
    "        dict_comparison['new_cluster'].append(new_cluster)\n",
    "        dict_comparison['base_prediction'].append(base_prediction)\n",
    "        dict_comparison['occluded_prediction'].append(occluded_prediction)"
   ]
  },
  {
   "cell_type": "code",
   "execution_count": null,
   "id": "77a1c603-e043-4def-8a9d-5b1bfa1e4736",
   "metadata": {},
   "outputs": [],
   "source": [
    "df_after_occlusion = pd.DataFrame(dict_comparison)"
   ]
  },
  {
   "cell_type": "code",
   "execution_count": null,
   "id": "c0cf57f5-336b-43d8-9704-e9d1e55126d7",
   "metadata": {},
   "outputs": [],
   "source": [
    "df_after_occlusion"
   ]
  }
 ],
 "metadata": {
  "environment": {
   "kernel": "conda-root-py",
   "name": "tf2-gpu.2-8.m91",
   "type": "gcloud",
   "uri": "gcr.io/deeplearning-platform-release/tf2-gpu.2-8:m91"
  },
  "kernelspec": {
   "display_name": "Python [conda env:root] *",
   "language": "python",
   "name": "conda-root-py"
  },
  "language_info": {
   "codemirror_mode": {
    "name": "ipython",
    "version": 3
   },
   "file_extension": ".py",
   "mimetype": "text/x-python",
   "name": "python",
   "nbconvert_exporter": "python",
   "pygments_lexer": "ipython3",
   "version": "3.7.12"
  }
 },
 "nbformat": 4,
 "nbformat_minor": 5
}
