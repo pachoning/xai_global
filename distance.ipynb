{
 "cells": [
  {
   "cell_type": "code",
   "execution_count": null,
   "id": "b18f4af2-a30f-4203-9bff-63dd2fc466e8",
   "metadata": {},
   "outputs": [],
   "source": [
    "from skimage import segmentation, io\n",
    "import os\n",
    "import matplotlib.pyplot as plt\n",
    "from tensorflow import keras\n",
    "import numpy as np\n",
    "import pandas as pd\n",
    "model = keras.models.load_model('./model/model.h5')"
   ]
  },
  {
   "cell_type": "code",
   "execution_count": null,
   "id": "8d0adfc8-c9a9-4557-9e0e-f09599289ace",
   "metadata": {},
   "outputs": [],
   "source": [
    "#path_to_images = './data/eval_xai_method/dog_resized'\n",
    "path_to_images ='./data/debug'\n",
    "all_images = os.listdir(path_to_images)"
   ]
  },
  {
   "cell_type": "code",
   "execution_count": null,
   "id": "647db465-0d86-4cfc-903f-c8653bc4d7dc",
   "metadata": {},
   "outputs": [],
   "source": [
    "num_images = 1"
   ]
  },
  {
   "cell_type": "code",
   "execution_count": null,
   "id": "2aa9fc1a-84cf-4d66-b0b7-f989b397139b",
   "metadata": {},
   "outputs": [],
   "source": [
    "images_chosen = np.random.choice(all_images, size=num_images)"
   ]
  },
  {
   "cell_type": "code",
   "execution_count": null,
   "id": "771be7cb-1062-42c4-92c1-ad96c3924c6a",
   "metadata": {},
   "outputs": [],
   "source": [
    "prediction_list = []\n",
    "image_name = images_chosen[0]\n",
    "image_path = os.path.join(path_to_images, image_name)\n",
    "img = io.imread(image_path)\n",
    "img_norm = img/255\n",
    "img_batch = np.expand_dims(img_norm, axis=0)\n",
    "pred = model.predict(img_batch)\n",
    "prediction_list.append(pred)\n",
    "io.imshow(img)\n",
    "print(prediction_list)"
   ]
  },
  {
   "cell_type": "code",
   "execution_count": null,
   "id": "1d8e2bcc-3de7-4827-bd70-d28a14ef8b44",
   "metadata": {},
   "outputs": [],
   "source": [
    "print(img.shape)"
   ]
  },
  {
   "cell_type": "code",
   "execution_count": null,
   "id": "3dcaceca-36ac-4fcc-bf2f-3ea745cbad87",
   "metadata": {},
   "outputs": [],
   "source": [
    "superpixels = segmentation.quickshift(img_norm, kernel_size=4, max_dist=10, ratio=.3)\n",
    "num_superpixels = np.unique(superpixels).shape[0]\n",
    "print(num_superpixels)\n",
    "io.imshow(segmentation.mark_boundaries(img_norm, superpixels, color=(1,0,0), mode='inner'))"
   ]
  },
  {
   "cell_type": "code",
   "execution_count": null,
   "id": "1f7b99c2-05b0-49e2-a994-d9f1e09f70f5",
   "metadata": {},
   "outputs": [],
   "source": [
    "class ImagesManager:\n",
    "    \n",
    "    def __init__(self, location, images_extension):\n",
    "        self.location = location\n",
    "        self.images_extension = images_extension\n",
    "    \n",
    "    def get_images_names(self):\n",
    "        all_data = os.listdir(self.location)\n",
    "        images_names = [x for x in all_data if x.split('.')[-1] == self.images_extension]\n",
    "        return images_names\n",
    "    \n",
    "    def __len__(self):\n",
    "        return len(self.get_images_names())"
   ]
  },
  {
   "cell_type": "code",
   "execution_count": null,
   "id": "cee91ddd-db43-4d43-bb21-32b8e7af77ce",
   "metadata": {},
   "outputs": [],
   "source": [
    "class MaskManager:\n",
    "    \n",
    "    def __init__(self, location, image_name):\n",
    "        self.location = location\n",
    "        self.image_name = image_name\n",
    "        \n",
    "    def get_mask(self, kernel_size, max_dist, ratio):\n",
    "        \n",
    "        full_path = os.path.join(self.location, self.image_name)\n",
    "        img = io.imread(full_path)\n",
    "        mask = segmentation.quickshift(img, kernel_size=kernel_size, max_dist=max_dist, ratio=ratio)\n",
    "            \n",
    "        return mask"
   ]
  },
  {
   "cell_type": "code",
   "execution_count": null,
   "id": "b61d51be-313a-4163-9ff2-6de3f197d920",
   "metadata": {},
   "outputs": [],
   "source": [
    "class FeaturesManager:\n",
    "    \n",
    "    def __init__(self, location, image_name, mask, normalise_features, num_channels):\n",
    "        self.location = location\n",
    "        self.image_name = image_name\n",
    "        self.mask = mask\n",
    "        self.features_properties = [\n",
    "            {'name': 'total_pixels', 'multiple_values': False, 'fun': self.get_total_pixels},\n",
    "            {'name': 'num_superpixel', 'multiple_values': False, 'fun': self.get_num_superpixel},\n",
    "            {'name': 'image_name', 'multiple_values': False, 'fun': self.get_image_name},\n",
    "            {'name': 'mean_channel', 'multiple_values': True, 'fun': self.get_mean},\n",
    "            {'name': 'std_channel', 'multiple_values': True, 'fun': self.get_std},\n",
    "            {'name': 'channels_correlation', 'multiple_values': True, 'fun': self.get_channels_corraltion},\n",
    "        ]\n",
    "        self.normalise_features = normalise_features\n",
    "        self.num_channels = num_channels\n",
    "        \n",
    "    def get_num_superpixel(self, num_superpixel, *arg, **kwargs):\n",
    "        return num_superpixel\n",
    "    \n",
    "    def get_total_pixels(self, superpixel, *args, **kwargs):\n",
    "        return superpixel.shape[0]\n",
    "    \n",
    "    def get_image_name(self, *args, **kwargs):\n",
    "        return self.image_name\n",
    "    \n",
    "    def get_mean(self, superpixel, *args, **kwargs):\n",
    "        if self.normalise_features:\n",
    "            return np.mean(superpixel/255, axis=0)\n",
    "        else:\n",
    "            return np.mean(superpixel, axis=0)\n",
    "    \n",
    "    def get_std(self, superpixel, *args, **kwargs):\n",
    "        if self.normalise_features:\n",
    "            return np.std(superpixel/255, axis=0)\n",
    "        else:\n",
    "            return np.std(superpixel, axis=0)\n",
    "        \n",
    "    def get_channels_corraltion(self, superpixel, *args, **kwargs):\n",
    "        \n",
    "        superpixel_norm = superpixel\n",
    "        superpixel_shape = superpixel_norm.shape\n",
    "        \n",
    "        if self.normalise_features:\n",
    "            superpixel_norm = superpixel/255\n",
    "        \n",
    "        if superpixel_shape[0] > 1 and superpixel_shape[1]:\n",
    "            corr_matrix = np.corrcoef(superpixel_norm, rowvar=False)\n",
    "            idx = np.triu_indices(n=self.num_channels, m=self.num_channels, k=1)\n",
    "            corr_vector = corr_matrix[idx]\n",
    "        \n",
    "        else:\n",
    "            n = self.num_channels\n",
    "            len_vector = int(n*(n-1)/2)\n",
    "            corr_vector = np.repeat(None, len_vector)\n",
    "            \n",
    "        return corr_vector\n",
    "\n",
    "            \n",
    "    def create_data_frame(self, dict_features):\n",
    "        \n",
    "        df = pd.DataFrame(dict_features)\n",
    "            \n",
    "        for feature in self.features_properties:\n",
    "            if feature['multiple_values']:\n",
    "                feature_name = feature['name']\n",
    "                values = df[feature_name].to_list()\n",
    "                len_values = len(values[0])\n",
    "                names = [feature_name + str(i) for i in range(len_values)]\n",
    "                df[names] = values\n",
    "                df.drop(columns=feature_name, inplace=True)\n",
    "\n",
    "        return df\n",
    "    \n",
    "    def get_features(self):\n",
    "        \n",
    "        full_path = os.path.join(self.location, self.image_name)\n",
    "        img = io.imread(full_path)\n",
    "        \n",
    "        mask = self.mask\n",
    "        \n",
    "        # Obtain features\n",
    "        unique_superpixels = np.unique(self.mask)\n",
    "    \n",
    "        dict_features = {}\n",
    "        \n",
    "        for index in unique_superpixels:\n",
    "            superpixel = img[mask == index]\n",
    "            for feature in self.features_properties:\n",
    "                feature_name = feature['name']\n",
    "                feature_values = feature['fun'](superpixel=superpixel, num_superpixel=index, img=img, mask=mask)\n",
    "                \n",
    "                if feature_name in dict_features.keys():\n",
    "                    dict_features[feature_name].append(feature_values)\n",
    "                else:\n",
    "                    dict_features[feature_name] = [feature_values]\n",
    "            \n",
    "        pd_features = self.create_data_frame(dict_features)\n",
    "        return pd_features"
   ]
  },
  {
   "cell_type": "code",
   "execution_count": null,
   "id": "57acd6b0-4186-440c-ab23-a10fdad7b276",
   "metadata": {},
   "outputs": [],
   "source": [
    "def get_superpixels_information(path_to_images, images_extension='jpg',\n",
    "                                normalise_features=False, num_channels=3,\n",
    "                                kernel_size=4, max_dist=10, ratio=.3):\n",
    "    \n",
    "    images_manager = ImagesManager(location=path_to_images, images_extension=images_extension)\n",
    "    images_names = images_manager.get_images_names()\n",
    "    \n",
    "    df_features_list = []\n",
    "    dict_masks = {}\n",
    "    \n",
    "    for image_name in images_names:\n",
    "        masks_manager = MaskManager(location=path_to_images, image_name=image_name)\n",
    "        mask = masks_manager.get_mask(kernel_size=kernel_size, max_dist=max_dist, ratio=ratio)\n",
    "        dict_masks[image_name] = mask\n",
    "        features_manager = FeaturesManager(location=path_to_images, image_name=image_name, \n",
    "                                           mask=mask, normalise_features=True, num_channels=num_channels)\n",
    "        df_features = features_manager.get_features()\n",
    "        df_features_list.append(df_features)\n",
    "    \n",
    "    return pd.concat(df_features_list), dict_masks"
   ]
  },
  {
   "cell_type": "code",
   "execution_count": null,
   "id": "0473302b-7f36-415c-b5b0-17bb04d3c45a",
   "metadata": {},
   "outputs": [],
   "source": [
    "#featurizantion, masks = get_superpixels_information('./data/debug')\n",
    "df_features, masks = get_superpixels_information('./data/debug', normalise_features=True)"
   ]
  },
  {
   "cell_type": "code",
   "execution_count": null,
   "id": "31097309-e56d-4c8f-9563-bf1a7fdf5d87",
   "metadata": {},
   "outputs": [],
   "source": [
    "print(df_features.head(2))"
   ]
  },
  {
   "cell_type": "code",
   "execution_count": null,
   "id": "f3af6a03-ef49-413a-9aa8-15d62ead0c18",
   "metadata": {},
   "outputs": [],
   "source": [
    "import numpy as np\n",
    "xarr = np.random.normal(size=(6, 3))\n",
    "mat = np.corrcoef(xarr, rowvar=False)\n",
    "print(mat)"
   ]
  },
  {
   "cell_type": "code",
   "execution_count": null,
   "id": "98cb7b86-cf3b-4b18-a099-30ea29255359",
   "metadata": {},
   "outputs": [],
   "source": [
    "n_col=3\n",
    "idx = np.arange(start=0, stop=9, step=n_col+1)\n",
    "corr_flat = mat.flatten()\n",
    "print(np.delete(corr_flat, idx))"
   ]
  },
  {
   "cell_type": "code",
   "execution_count": null,
   "id": "5ca87f05-9d7c-4dc3-821a-a7a006c1f3a8",
   "metadata": {},
   "outputs": [],
   "source": []
  }
 ],
 "metadata": {
  "kernelspec": {
   "display_name": "xai_cats_dogs_venv",
   "language": "python",
   "name": "xai_cats_dogs_venv"
  },
  "language_info": {
   "codemirror_mode": {
    "name": "ipython",
    "version": 3
   },
   "file_extension": ".py",
   "mimetype": "text/x-python",
   "name": "python",
   "nbconvert_exporter": "python",
   "pygments_lexer": "ipython3",
   "version": "3.9.7"
  }
 },
 "nbformat": 4,
 "nbformat_minor": 5
}
